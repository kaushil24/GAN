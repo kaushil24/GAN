{
  "nbformat": 4,
  "nbformat_minor": 0,
  "metadata": {
    "kernelspec": {
      "display_name": "Python 3",
      "language": "python",
      "name": "python3"
    },
    "language_info": {
      "codemirror_mode": {
        "name": "ipython",
        "version": 3
      },
      "file_extension": ".py",
      "mimetype": "text/x-python",
      "name": "python",
      "nbconvert_exporter": "python",
      "pygments_lexer": "ipython3",
      "version": "3.6.9"
    },
    "colab": {
      "name": "DCGAN.ipynb",
      "provenance": [],
      "collapsed_sections": [],
      "include_colab_link": true
    },
    "accelerator": "GPU"
  },
  "cells": [
    {
      "cell_type": "markdown",
      "metadata": {
        "id": "view-in-github",
        "colab_type": "text"
      },
      "source": [
        "<a href=\"https://colab.research.google.com/github/kaushil24/GAN/blob/master/DCGAN.ipynb\" target=\"_parent\"><img src=\"https://colab.research.google.com/assets/colab-badge.svg\" alt=\"Open In Colab\"/></a>"
      ]
    },
    {
      "cell_type": "code",
      "metadata": {
        "id": "EzS7Jix0Qdya",
        "colab_type": "code",
        "colab": {
          "base_uri": "https://localhost:8080/",
          "height": 122
        },
        "outputId": "f688b404-b30c-4a84-a213-790a7fe7baf0"
      },
      "source": [
        "from google.colab import drive\n",
        "drive.mount('/content/drive')\n",
        "import os\n",
        "os.chdir('/content/drive/My Drive/ML Projects/GAN')\n",
        "os.listdir()"
      ],
      "execution_count": 1,
      "outputs": [
        {
          "output_type": "stream",
          "text": [
            "Go to this URL in a browser: https://accounts.google.com/o/oauth2/auth?client_id=947318989803-6bn6qk8qdgf4n4g3pfee6491hc0brc4i.apps.googleusercontent.com&redirect_uri=urn%3aietf%3awg%3aoauth%3a2.0%3aoob&response_type=code&scope=email%20https%3a%2f%2fwww.googleapis.com%2fauth%2fdocs.test%20https%3a%2f%2fwww.googleapis.com%2fauth%2fdrive%20https%3a%2f%2fwww.googleapis.com%2fauth%2fdrive.photos.readonly%20https%3a%2f%2fwww.googleapis.com%2fauth%2fpeopleapi.readonly\n",
            "\n",
            "Enter your authorization code:\n",
            "··········\n",
            "Mounted at /content/drive\n"
          ],
          "name": "stdout"
        }
      ]
    },
    {
      "cell_type": "code",
      "metadata": {
        "id": "yzYe3KlPQXXe",
        "colab_type": "code",
        "colab": {}
      },
      "source": [
        "import torch\n",
        "import torch.nn as nn\n",
        "from torch.utils.data import Dataset\n",
        "import torchvision\n",
        "import torchvision.transforms as transforms"
      ],
      "execution_count": 0,
      "outputs": []
    },
    {
      "cell_type": "markdown",
      "metadata": {
        "id": "4bHkL7ylQXXk",
        "colab_type": "text"
      },
      "source": [
        "Getting the dataset:"
      ]
    },
    {
      "cell_type": "code",
      "metadata": {
        "scrolled": true,
        "id": "dbVoFBSVQXXl",
        "colab_type": "code",
        "colab": {},
        "outputId": "ca2693ce-4db8-4f0a-c276-fb9c47aeab30"
      },
      "source": [
        "import numpy as np\n",
        "import idx2numpy\n",
        "import matplotlib.pyplot as plt\n",
        "\n",
        "imagefile = 'fashion-MNIST-idx3-ubyte'\n",
        "imagearray = idx2numpy.convert_from_file(imagefile)\n",
        "\n",
        "plt.imshow(imagearray[4], cmap=plt.cm.binary)\n",
        "print(imagearray.shape)"
      ],
      "execution_count": 0,
      "outputs": [
        {
          "output_type": "stream",
          "text": [
            "(60000, 28, 28)\n"
          ],
          "name": "stdout"
        },
        {
          "output_type": "display_data",
          "data": {
            "image/png": "[encoded data removed]",
            "text/plain": [
              "<Figure size 432x288 with 1 Axes>"
            ]
          },
          "metadata": {
            "tags": [],
            "needs_background": "light"
          }
        }
      ]
    },
    {
      "cell_type": "markdown",
      "metadata": {
        "id": "6IaxjVu2QXXr",
        "colab_type": "text"
      },
      "source": [
        "# Building GANs"
      ]
    },
    {
      "cell_type": "markdown",
      "metadata": {
        "id": "Dqug6HwOQXXt",
        "colab_type": "text"
      },
      "source": [
        "## Making discriminator:"
      ]
    },
    {
      "cell_type": "code",
      "metadata": {
        "id": "HhaUs7SjQXXu",
        "colab_type": "code",
        "colab": {}
      },
      "source": [
        "CHANNEL = 1"
      ],
      "execution_count": 0,
      "outputs": []
    },
    {
      "cell_type": "code",
      "metadata": {
        "id": "wt1ZW9LjQXX1",
        "colab_type": "code",
        "colab": {}
      },
      "source": [
        "nn.Conv2d()"
      ],
      "execution_count": 0,
      "outputs": []
    },
    {
      "cell_type": "code",
      "metadata": {
        "id": "PZ-3c6WQQXX8",
        "colab_type": "code",
        "colab": {}
      },
      "source": [
        "class Discriminator(nn.Module):    \n",
        "    def __init__(self, channels, features):\n",
        "        super(Descriminator, self).__init__()\n",
        "        self.net = nn.Sequential(\n",
        "            nn.Conv2d(in_channels= channels, out_channels = features, kernel_size = 4, stride = 2, padding = 1),\n",
        "            nn.LeakyReLU(0.2),\n",
        "            nn.Conv2d(in_channels = features, out_channels = features * 2, kernel_size = 4, stride = 2, padding = 1),\n",
        "            nn.BatchNorm2d(num_features = features * 2),\n",
        "            nn.LeakyReLU(0.2),\n",
        "            nn.Conv2d(in_channels = features * 2, out_channels = features * 4, kernel_size = 4, stride = 2, padding = 1),\n",
        "            nn.BatchNorm2d(num_features = features * 4),\n",
        "            nn.LeakyReLU(0.2),\n",
        "            nn.Conv2d(in_channels = features * 4, out_channels = features * 8, kernel_size = 4, stride = 2, padding = 1),\n",
        "            nn.BatchNorm2d(num_features = features * 8),\n",
        "            nn.LeakyReLU(0.2),\n",
        "            nn.Conv2d(in_channels = features * 8, out_channels = 1, kernel_size = 4, stride = 2, padding = 0),\n",
        "            nn.Sigmoid()\n",
        "            )\n",
        "        \n",
        "    def forward(self, x):\n",
        "        x = self.net(x)\n",
        "        return x\n",
        "\n",
        "'''\n",
        "nn.ConvTranspose2d(\n",
        "    in_channels,\n",
        "    out_channels,\n",
        "    kernel_size,\n",
        "    stride=1,\n",
        "    padding=0,\n",
        "    output_padding=0,\n",
        "    groups=1,\n",
        "    bias=True,\n",
        "    dilation=1,\n",
        "    padding_mode='zeros',\n",
        ")\n",
        "'''\n",
        "class Generator(nn.Module):\n",
        "    def __init__(self, noise_size, channels, features):\n",
        "        super(Generator, self).__init__()\n",
        "        self.net = nn.Sequential(\n",
        "            nn.ConvTranspose2d(in_channels = noise_size, out_channels = features*16, kernel_size = 4, stride = 1, padding = 0),\n",
        "            nn.BatchNorm2d(features * 16),\n",
        "            nn.ReLU(),\n",
        "            \n",
        "            nn.ConvTranspose2d(in_channels = features * 16, out_channels = features * 8, kernel_size = 4, stride = 2, padding = 1),\n",
        "            nn.BatchNorm2d(num_features = features * 8),\n",
        "            nn.ReLU(),\n",
        "            \n",
        "            nn.ConvTranspose2d(in_channels = features * 8, out_channels = features * 4, kernel_size = 4, stride = 2, padding = 1),\n",
        "            nn.BatchNorm2d(num_features = features * 4),\n",
        "            nn.ReLU(),\n",
        "            \n",
        "            nn.ConvTranspose2d(in_channels = features * 4, out_channels = features * 2, kernel_size = 4, stride = 2, padding = 1),\n",
        "            nn.BatchNorm2d(num_features = features * 2),\n",
        "            nn.ReLU(),\n",
        "            \n",
        "            nn.ConvTranspose2d(in_channels = features * 2, out_channels = channels, kernel_size = 4, stride = 2, padding = 1),\n",
        "            nn.Tanh()\n",
        "        )\n",
        "        \n",
        "    def forward(self, x):\n",
        "        return self.net(x)\n",
        "    \n",
        "    \n",
        "### TESTING FORWARD PASS IN DESCRIMINATOR:\n",
        "# img_channels = 3\n",
        "# img_size = 64\n",
        "# features = 4\n",
        "# batch_size = 5\n",
        "# rand = torch.rand((batch_size, img_channels, img_size, img_size)).float()\n",
        "# nn = Discriminator(img_channels, features)\n",
        "# c = nn.forward(rand)\n",
        "\n",
        "### TESTING FORWARD PASS IN GENERATOR:\n",
        "# noise_size = 100\n",
        "# output_img_channels = 3\n",
        "# batch_size = 5\n",
        "# features = 4\n",
        "# rand = torch.rand((batch_size, noise_size, 1, 1)).float()\n",
        "# nn = Generator(noise_size, output_img_channels , features)\n",
        "# c = nn.forward(rand)"
      ],
      "execution_count": 0,
      "outputs": []
    },
    {
      "cell_type": "code",
      "metadata": {
        "id": "AgrYVYlnQXYB",
        "colab_type": "code",
        "colab": {}
      },
      "source": [
        ""
      ],
      "execution_count": 0,
      "outputs": []
    }
  ]
}