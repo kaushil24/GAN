<<<<<<< HEAD
{"nbformat":4,"nbformat_minor":0,"metadata":{"kernelspec":{"display_name":"Python 3","language":"python","name":"python3"},"language_info":{"codemirror_mode":{"name":"ipython","version":3},"file_extension":".py","mimetype":"text/x-python","name":"python","nbconvert_exporter":"python","pygments_lexer":"ipython3","version":"3.6.9"},"colab":{"name":"DCGAN.ipynb","provenance":[],"collapsed_sections":[]},"accelerator":"GPU"},"cells":[{"cell_type":"code","metadata":{"id":"EzS7Jix0Qdya","colab_type":"code","colab":{"base_uri":"https://localhost:8080/","height":153},"outputId":"bf02f0bb-6781-472d-fc76-a02a65a64272","executionInfo":{"status":"ok","timestamp":1589310732235,"user_tz":-330,"elapsed":728,"user":{"displayName":"Kaushil Kundalia","photoUrl":"https://lh3.googleusercontent.com/a-/AOh14GgbZcl3OypXQBz_yecm1jnMngqOUFQHqdu2kPve=s64","userId":"10081922175952885107"}}},"source":["from google.colab import drive\n","drive.mount('/content/drive')\n","import os\n","os.chdir('/content/drive/My Drive/ML Projects/GAN')\n","os.listdir()"],"execution_count":1,"outputs":[{"output_type":"stream","text":["Drive already mounted at /content/drive; to attempt to forcibly remount, call drive.mount(\"/content/drive\", force_remount=True).\n"],"name":"stdout"},{"output_type":"execute_result","data":{"text/plain":["['README.md',\n"," '.gitignore',\n"," 'fashion-MNIST-idx3-ubyte',\n"," 'DCGAN.pdf',\n"," '.ipynb_checkpoints',\n"," '.git',\n"," 'DCGAN.ipynb']"]},"metadata":{"tags":[]},"execution_count":1}]},{"cell_type":"code","metadata":{"id":"yzYe3KlPQXXe","colab_type":"code","colab":{}},"source":["import torch\n","import torch.optim as optim\n","import torch.nn as nn\n","from torch.utils.data import Dataset, DataLoader\n","import torchvision\n","import torchvision.transforms as transforms\n","import cv2"],"execution_count":0,"outputs":[]},{"cell_type":"markdown","metadata":{"id":"4bHkL7ylQXXk","colab_type":"text"},"source":["Getting the dataset:"]},{"cell_type":"code","metadata":{"scrolled":true,"id":"dbVoFBSVQXXl","colab_type":"code","colab":{"base_uri":"https://localhost:8080/","height":282},"outputId":"b33ed560-010e-44bf-87ba-1e917468aec2","executionInfo":{"status":"ok","timestamp":1589310950546,"user_tz":-330,"elapsed":1390,"user":{"displayName":"Kaushil Kundalia","photoUrl":"https://lh3.googleusercontent.com/a-/AOh14GgbZcl3OypXQBz_yecm1jnMngqOUFQHqdu2kPve=s64","userId":"10081922175952885107"}}},"source":["import numpy as np\n","import idx2numpy\n","import matplotlib.pyplot as plt\n","\n","imagefile = 'fashion-MNIST-idx3-ubyte'\n","imagearray = idx2numpy.convert_from_file(imagefile)\n","\n","plt.imshow(imagearray[4], cmap=plt.cm.binary)\n","print(imagearray.shape)"],"execution_count":9,"outputs":[{"output_type":"stream","text":["(60000, 28, 28)\n"],"name":"stdout"},{"output_type":"display_data","data":{"image/png":"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\n","text/plain":["<Figure size 432x288 with 1 Axes>"]},"metadata":{"tags":[],"needs_background":"light"}}]},{"cell_type":"markdown","metadata":{"id":"6IaxjVu2QXXr","colab_type":"text"},"source":["# Building GANs"]},{"cell_type":"code","metadata":{"id":"trvTdcjISygy","colab_type":"code","colab":{"base_uri":"https://localhost:8080/","height":34},"outputId":"572d294f-9f1a-4517-9869-c0a604b05865","executionInfo":{"status":"ok","timestamp":1589310742000,"user_tz":-330,"elapsed":1345,"user":{"displayName":"Kaushil Kundalia","photoUrl":"https://lh3.googleusercontent.com/a-/AOh14GgbZcl3OypXQBz_yecm1jnMngqOUFQHqdu2kPve=s64","userId":"10081922175952885107"}}},"source":["device = torch.device('cuda' if torch.cuda.is_available() else 'cpu')\n","device"],"execution_count":3,"outputs":[{"output_type":"execute_result","data":{"text/plain":["device(type='cuda')"]},"metadata":{"tags":[]},"execution_count":3}]},{"cell_type":"code","metadata":{"id":"PZ-3c6WQQXX8","colab_type":"code","colab":{}},"source":["class Discriminator(nn.Module):    \n","    def __init__(self, channels, features):\n","        super().__init__()\n","        self.net = nn.Sequential(\n","            nn.Conv2d(in_channels= channels, out_channels = features, kernel_size = 4, stride = 2, padding = 1),\n","            nn.LeakyReLU(0.2),\n","            nn.Conv2d(in_channels = features, out_channels = features * 2, kernel_size = 4, stride = 2, padding = 1),\n","            nn.BatchNorm2d(num_features = features * 2),\n","            nn.LeakyReLU(0.2),\n","            nn.Conv2d(in_channels = features * 2, out_channels = features * 4, kernel_size = 4, stride = 2, padding = 1),\n","            nn.BatchNorm2d(num_features = features * 4),\n","            nn.LeakyReLU(0.2),\n","            nn.Conv2d(in_channels = features * 4, out_channels = features * 8, kernel_size = 4, stride = 2, padding = 1),\n","            nn.BatchNorm2d(num_features = features * 8),\n","            nn.LeakyReLU(0.2),\n","            nn.Conv2d(in_channels = features * 8, out_channels = 1, kernel_size = 4, stride = 2, padding = 0),\n","            nn.Sigmoid()\n","            )\n","        \n","    def forward(self, x):\n","        x = self.net(x)\n","        return x\n","\n","class Generator(nn.Module):\n","    def __init__(self, noise_size, channels, features):\n","        super().__init__()\n","        self.net = nn.Sequential(\n","            nn.ConvTranspose2d(in_channels = noise_size, out_channels = features*16, kernel_size = 4, stride = 1, padding = 0),\n","            nn.BatchNorm2d(features * 16),\n","            nn.ReLU(),\n","            \n","            nn.ConvTranspose2d(in_channels = features * 16, out_channels = features * 8, kernel_size = 4, stride = 2, padding = 1),\n","            nn.BatchNorm2d(num_features = features * 8),\n","            nn.ReLU(),\n","            \n","            nn.ConvTranspose2d(in_channels = features * 8, out_channels = features * 4, kernel_size = 4, stride = 2, padding = 1),\n","            nn.BatchNorm2d(num_features = features * 4),\n","            nn.ReLU(),\n","            \n","            nn.ConvTranspose2d(in_channels = features * 4, out_channels = features * 2, kernel_size = 4, stride = 2, padding = 1),\n","            nn.BatchNorm2d(num_features = features * 2),\n","            nn.ReLU(),\n","            \n","            nn.ConvTranspose2d(in_channels = features * 2, out_channels = channels, kernel_size = 4, stride = 2, padding = 1),\n","            nn.Tanh()\n","        )\n","        \n","    def forward(self, x):\n","        return self.net(x)\n","    \n","\n","batch_size = 64\n","img_size = 64\n","img_channels = 1\n","channels_noise = 256\n","features = 16\n","\n","disc = Discriminator(img_channels, features).float().to(device)\n","gen = Generator(channels_noise, img_channels, features).to(device)"],"execution_count":0,"outputs":[]},{"cell_type":"code","metadata":{"id":"AgrYVYlnQXYB","colab_type":"code","colab":{}},"source":["## TESTING FORWARD PASS IN DESCRIMINATOR:\n","rand = torch.rand((batch_size, img_channels, img_size, img_size)).float().to(device)\n","c = disc.forward(rand)\n","print(c.shape, c)\n","\n","## TESTING FORWARD PASS IN GENERATOR:\n","rand = torch.rand((batch_size, channels_noise, 1, 1)).float().to(device)\n","c = gen.forward(rand)\n","print(c)"],"execution_count":0,"outputs":[]},{"cell_type":"markdown","metadata":{"id":"WwbnJW52Tstb","colab_type":"text"},"source":["## Preparing data for training:"]},{"cell_type":"code","metadata":{"id":"TpmaToxOUPRj","colab_type":"code","colab":{}},"source":["batch_size = 64\n","img_size = 64\n","img_channels = 1\n","channels_noise = 256\n","features = 16\n","\n","class Resize():\n","    def __init__(self, resize_dim = 64):\n","        self.resize_dim = 64\n","        \n","    def __call__(self, img):\n","        return cv2.resize(img, (self.resize_dim, self.resize_dim))\n","\n","class FashnionDataset(Dataset):\n","  def __init__(self, file = 'fashion-MNIST-idx3-ubyte', transform = None):\n","    self.file = file\n","    self.transform = transform\n","    self.img_array = idx2numpy.convert_from_file(self.file)\n","\n","  def __len__(self):\n","    return len(self.img_array)\n","\n","  def __getitem__(self, idx):\n","    img = self.img_array[idx]\n","    # img = torch.tensor(img).to(device)\n","\n","    if self.transform is not None:\n","      img = self.transform(img)\n","\n","    if not torch.is_tensor(img):\n","      img = torch.tensor(img).to(device)\n","\n","    return img.to(device)\n","\n","my_transforms = transforms.Compose([\n","    Resize(img_size),\n","    transforms.ToTensor(),\n","    transforms.Normalize((0.5,),(0.5,)),\n","    ])\n","\n","ds = FashnionDataset(transform = my_transforms)\n","loader = DataLoader(ds, batch_size, shuffle = True)"],"execution_count":0,"outputs":[]},{"cell_type":"code","metadata":{"id":"qg7U59UKaMZf","colab_type":"code","colab":{}},"source":["for i, b in enumerate(loader):\n","  print(b)\n","  if i == 1:\n","    break"],"execution_count":0,"outputs":[]},{"cell_type":"code","metadata":{"id":"F_npXZ-Ley9s","colab_type":"code","colab":{}},"source":["from tqdm import tqdm"],"execution_count":0,"outputs":[]},{"cell_type":"code","metadata":{"id":"jh11slRCfAV0","colab_type":"code","colab":{"base_uri":"https://localhost:8080/","height":34},"outputId":"ec57f616-2f86-41c8-a10d-de102bf731b3","executionInfo":{"status":"ok","timestamp":1589313838153,"user_tz":-330,"elapsed":1308,"user":{"displayName":"Kaushil Kundalia","photoUrl":"https://lh3.googleusercontent.com/a-/AOh14GgbZcl3OypXQBz_yecm1jnMngqOUFQHqdu2kPve=s64","userId":"10081922175952885107"}}},"source":["data = next(iter(loader))\n","data[0].shape"],"execution_count":32,"outputs":[{"output_type":"execute_result","data":{"text/plain":["torch.Size([1, 64, 64])"]},"metadata":{"tags":[]},"execution_count":32}]},{"cell_type":"code","metadata":{"id":"RnEoLqKjYIz1","colab_type":"code","colab":{"base_uri":"https://localhost:8080/","height":34},"outputId":"a3e2e207-0335-4d10-87dc-51c4fcfaf556","executionInfo":{"status":"ok","timestamp":1589314231888,"user_tz":-330,"elapsed":232164,"user":{"displayName":"Kaushil Kundalia","photoUrl":"https://lh3.googleusercontent.com/a-/AOh14GgbZcl3OypXQBz_yecm1jnMngqOUFQHqdu2kPve=s64","userId":"10081922175952885107"}}},"source":["lr = 0.0002\n","epochs = 10\n","\n","optimD = optim.Adam(disc.parameters(), lr = lr, betas = (0.5, 0.99))\n","optimG = optim.Adam(gen.parameters(), lr = lr, betas = (0.5, 0.99))\n","\n","criterion = nn.BCELoss()\n","\n","real_label = 1\n","fake_label = 0\n","\n","# fixed_noise = torch.randn(batch_size, channels_noise, 1, 1).to(device)\n","\n","for epoch in tqdm(range(epochs)):\n","  for data in loader:\n","    batch_size = data.shape[0]\n","\n","    ## Training discriminator\n","\n","    '''First feeding the real images'''\n","    label = (torch.ones(batch_size)* 0.9).to(device)\n","    output = disc(data).reshape(-1)\n","    lossD_real = criterion(output, label)\n","\n","    '''feeding generated images'''\n","    label = (torch.ones(batch_size) * 0.1).to(device)\n","    rand_noise = torch.randn((batch_size, channels_noise, 1, 1)).to(device)\n","    fake_image = gen(rand_noise)\n","    output = disc(fake_image.detach()).reshape(-1)\n","    lossD_fake = criterion(output, label)\n","\n","    '''Back propogating discriminator and updating weights'''\n","    disc.zero_grad()\n","    lossD = lossD_real + lossD_fake\n","    lossD.backward()\n","    optimD.step()\n","\n","    ## Training generator\n","\n","    label = torch.ones(batch_size).to(device)\n","    output = disc(fake_image).reshape(-1)\n","    lossG = criterion(output, label)\n","\n","    '''Backpropogating'''\n","    gen.zero_grad()\n","    lossG.backward()\n","    optimG.step()\n"],"execution_count":38,"outputs":[{"output_type":"stream","text":["100%|██████████| 10/10 [03:50<00:00, 23.08s/it]\n"],"name":"stderr"}]},{"cell_type":"code","metadata":{"id":"hrbFVBu9jcYY","colab_type":"code","colab":{"base_uri":"https://localhost:8080/","height":71},"outputId":"bfd783e3-71f7-4c7b-d7f1-9f5b7ccc8613","executionInfo":{"status":"ok","timestamp":1589315138837,"user_tz":-330,"elapsed":1322,"user":{"displayName":"Kaushil Kundalia","photoUrl":"https://lh3.googleusercontent.com/a-/AOh14GgbZcl3OypXQBz_yecm1jnMngqOUFQHqdu2kPve=s64","userId":"10081922175952885107"}}},"source":["# torch.save(gen, 'Fashion_DCGA_generator.pt')\n","# torch.save(disc, 'Fashion_DCGAN_discriminator.pt')"],"execution_count":51,"outputs":[{"output_type":"stream","text":["/usr/local/lib/python3.6/dist-packages/torch/serialization.py:402: UserWarning: Couldn't retrieve source code for container of type Discriminator. It won't be checked for correctness upon loading.\n","  \"type \" + obj.__name__ + \". It won't be checked \"\n"],"name":"stderr"}]},{"cell_type":"code","metadata":{"id":"2CDRpk_ckc7N","colab_type":"code","colab":{}},"source":["cv2.imwrite?"],"execution_count":0,"outputs":[]},{"cell_type":"code","metadata":{"id":"lNn3yxi6fhcU","colab_type":"code","colab":{"base_uri":"https://localhost:8080/","height":486},"outputId":"cb96cf1f-30fa-4f46-e74f-6174b1c2b1bd","executionInfo":{"status":"ok","timestamp":1589315380174,"user_tz":-330,"elapsed":2380,"user":{"displayName":"Kaushil Kundalia","photoUrl":"https://lh3.googleusercontent.com/a-/AOh14GgbZcl3OypXQBz_yecm1jnMngqOUFQHqdu2kPve=s64","userId":"10081922175952885107"}}},"source":["gen_load = torch.load('Fashion_DCGA_generator.pt')\n","rand_noise = torch.randn((batch_size, channels_noise, 1, 1)).to(device)\n","fake_image = gen_load(rand_noise)\n","numpyarr = fake_image.cpu().detach().numpy()\n","f, axes = plt.subplots(nrows = 5, ncols = 1, figsize = (8, 8))\n","for i, img in enumerate(numpyarr[:5]):\n","  axes[i].imshow(img[0], cmap=plt.cm.binary)\n","  cv2.imwrite(f'FashionMNIST_DCGAN{i}.jpg', img[0])"],"execution_count":55,"outputs":[{"output_type":"display_data","data":{"image/png":"iVBORw0KGgoAAAANSUhEUgAAAG0AAAHVCAYAAAD7FnX6AAAABHNCSVQICAgIfAhkiAAAAAlwSFlzAAALEgAACxIB0t1+/AAAADh0RVh0U29mdHdhcmUAbWF0cGxvdGxpYiB2ZXJzaW9uMy4yLjEsIGh0dHA6Ly9tYXRwbG90bGliLm9yZy+j8jraAAAgAElEQVR4nOy9WYyk6Vku+Hyx7xEZGblUVdfS7m53uyVwY0pwgYUGoRkZ33CQkMU5kudIA2MuaAkkLgZxhc654YJFc4HQMcISI4EACdCMjhCMhZgLkLC723Ljpe1eqrK2zIzMiIx9X765iHzeeP+v/tgyszOy+tQrpTKWP/7le79334y1Fs/h2YLAum/gOawOz5H2DMJzpD2D8BxpzyA8R9ozCM+R9gzCuZBmjPmCMeaHxpgPjTG/dVE39RzmgzmrnWaMCQJ4H8D/DOAxgLcA/Edr7fcv7vaegx+ch9J+AsCH1tp71to+gL8E8PMXc1vPYR6EzvHbGwAeqfePAfzkvB8UCgV7586dc1zSC9ZajMdjGGPks/F4jOFwKH/W2qdeB4NBAEAwGEQoFEIgMNm7w+EQ4/EYo9EIo9EI1loEAgHEYjFEIhFEo1HP8cYYz7Uv8rm+9a1vlay1W37fnwdpS4Ex5isAvgIAt27dwttvvy03xkUBJot9erx877co/N1wOES328VoNBJE9Xo9tNttVKtVFItFnJycoNvtotfrodPpoFaroVarwRiDXq+Ha9euIZ/PI5VKIRqNolqtolwuo9/v4/j4GJ1OB/F4HLdv38aNGzdw69Yt7O7uIhwOIxKJIJlMIhqNIhwOy0bgMxhjMBqN5Dv9XPpZeDyfazweIxgMIhgMPpi1pudB2hMAN9X7F04/cxf5qwC+CgB37961vDkCd3YgEBAkakQReXwgIqjZbKJer6PZbKLRaKDf76Ner6NYLKLZbKJaraLVamEwGGA0GqHb7aJUKqFer2M4HCIUCuHg4ADZbBYbGxvIZrNot9u4f/8+xuMxWq0WRqMRQqEQSqUSDg8P8dFHH2FzcxORSATGGASDQfn97du3kc1mEQqFEAwGEYlEEAgEBGHuBuQa+CFxEZwHaW8BeMUY8yImyPolAP9p0Y+INPcGiRQAgjh9DFkWKarRaODx48c4OjrC3t4ems0marUajo6OhLK63S6GwyEGgwG63S6azSa63S76/T4CgQBCoRCSySTS6TQSiQT6/T5KpRLG4zEGgwHG47Es/OPHjxGJRBCLxRAKhWCMQSgUQi6Xw87ODt544w18+tOfRqFQQCKRwHg8RiwWkw3JZ3QRp9n7x440a+3QGPMmgH8EEATwNWvt91b4vYey/GSDMQbD4RDGGDSbTbTbbfmr1Wp4//338ejRI3zwwQeo1WpotVqo1+sAJkgmsjqdDvr9vixSp9PBaDRCMBhENBpFJBJBKBQSSh6Px+j1ehiNRgAmm6harXo2UjgcRiwWQyaTQTqdFjb88ssvY3NzE/F4HJlMBslkEsFgUBDH5+IaEGn6s0XIO5dMs9b+PYC/X/V3xhhhh7xZ98YJ3PGPHj3CgwcPUCwWUa1W0e/38eGHH6JYLKLdbstCD4dDxGIxxGIx9Pt9od54PI5QKITBYOBZfLKyWCwGAPI7UqW1VhSWaDQq984/ACgWi3j33XdRq9Wwt7cnMvDGjRu4fv06wuHwU0jjhl0GSS587IqIC5qi3B3nPsR4PIa1FtVqFffu3cM3vvEN3Lt3DycnJ2g0GqhUKgAgC0iNLxgMCjVR+wuFQohEIiLo2+02RqORbJZwOIxkMilaZiaTEQQSIpEIwuGwRxmq1WoYDoe4d+8eDg4O8IMf/AB37tzBG2+8gfF4jGQyiVQq5ZFvfHY+82AwAADP9/NgbUjTu92lMK2ml8tlFItFPHz4EE+ePMHDhw9Rr9cRCARkAY0xghhgQlXVahXtdlsoNRwOC+IikQiCwSB6vZ4gmdcLhUIi86LRKKLRKILBoCCYv+FGCYVCsNYKO63Vavjwww9RqVTw4MEDHB4e4otf/CJyuZwoKfwNN5rWnIPBoLyfBZeONMCLHHdnUZscDodoNBo4ODjAgwcPUK1W0ev1AEAevtPpIBqNej7r9/serRGYysZarSYICAaDiMVioo1y4dvtNiKRCIbDoZyXm6HX6yEQCAgHoPyjWh+LxWCMQbfbxf7+PjqdDj7zmc/go48+ws2bN7GxsYFkMinUrVV83qf+PwsuHWmaf/tRnasCdzodlMtlVCoVD0tLJBIYjUYelsfzEGFceJ5rPB6j3++LbKKCQLZM5HW7Xc89EtH6GAKvHY/HhRIpWzudDj788EMUCgWRnfF43PN7Lev0msyDtbDHeYJX2zSBQEDsr2q1inq9LqwrEAggkUgAgGcxNZuLRqPodDoYDAZP2XukIMoW/XvXsA+FQqKNUpFxn4XUYq2VY0ejEfb29pDP55HJZFAoFJDL5RCJROT3LtJ4jnmwltCMqzH5UR95/ng8Rq1WQ7lcRrVaFSoYjUZIp9Mi1/r9vuxyGsXUCLVbip4KvqaMod3Fe6C8crVLIkovOH/n2pnj8RjlchkPHz5EqVRCq9US00NvCtfkWURta0HaPLvM72GKxSIqlYoYzNztXHAuLj+LxWKiXHBx+b32vgDTDaOVBO135Hteh35IslbKVGOMmBhUeMiiq9Wq2JlaG+Xv/F7Pg7UoIi6L1L43vqei8a//+q/46KOP0Gg0ZFFbrZYoHVws/btoNIpareZx+JJtcZcTGZoVU6OkY5iGdyAQQLvdRjwex2AwQLvdRq/XgzEGuVwOsVgMnU5H7p+arTEGJycnCAQCKBaLaDQaohz5eUeWhbUgTYPfzXIRE4kEYrEYKpWKaGWdTgfAhBWl02kMBgOPsxaYanmUbbwOz6tVbJcdUwPUyOQ5aD5QJvX7fbTbbTkuFouJExuAHFetVvHo0SOcnJyIfNXPyv9+ypgfrFV7BGazBz4EKYIKBdXtXq8nKjsphkCVXmuGAERz63a7ch4qHvwNWSEplkjm+UmR4XAY8XhcWCJtrkgkIueNRqOw1qLdbosflNfVCoiLrCuHtFWAi071mSo8EUG7jbaSjnNpecRF0maBjrEB04WiHCR7o+tLLzJjau5m4b2RSik/SdmUcX5KmHakXzmkuQ/pPgB3on49GAw8qjwXVQcsAQjiuNuDwaAnekBqIkVx5wMQauI1+DmpULNLbh4tg6mAuM/F77QxPkvhuLJIc4EPwAcjZegItGsfAVOjlH47updoOJNK9IINh0OPjaSB1EcYjUai4JD6yHL7/b58BgDRaBSDwQCJRALD4VBYpqZq1+xw4ZlSROYBDetGo4Ferycsi0qJ613gwvR6PWSzWVH7AQibGg6HYttp41qr6mSr/CPlkvq0YgIA7XZbNM9eryfnCgaDEingBtScQccNNRtdBFcGabx57by11qLZbHoEPXe81rboJSF7C4fDskDaV0ibajQaSYCSQIeyZmuMeGvDG4AnSEok0J1FbtHtdpFKpQBAUiNIobyuNuaJuGeCPQJP839gsjDdbhfpdFoohLYT2ZCmPn0uHq8hFArJsfSqRKNRWUDaZvRYkDqIDCokpDyex5V9wDRGF4lERIlJpVKymfr9vnhYCHoTXkkvvwuz1P7hcIhSqQQAomKTWrSiwoekkkEnsnYzcRdratUpBVxwGuxUOrTbC4CH4sk29UYwxsgGYDzOGOPxgc6DWTJPw5VLC3cfisoAZQQpgLKDMkP/Tjt9KbeAKVsjookcaqjdbldkGo8nWw2Hw/IZNwa1VZ1WpyPl2jfa6XTQarXQ6XREaTorXAlKI/j5JDX70ZRFbZJKBL0iDL+4Pkd+pxGmFQHXCax9kjQvtN/QNdzd4GUwGJT8EL3RmEsyiwUu43+8UkgD/KPYxhiP/NKaIL0O9FLwd6RAsiueKxAIoNfrCSvVFMKF114PrTny3GSP3DyUdZq10b3Ga+p71tHqs8BC9miMuWmM+WdjzPeNMd8zxvz66ee/Y4x5Yoz59unfF5e54DJsgTYSbR+yRi4SnbNaljF6TENcG9R6Ua21kuSjcxI1iwuHw4IwIpDfMdJAbZDKBZFKs8Fai3K5jG63i0AggHQ6LWaB3gB+/y9CexwC+E1r7beMMWkA7xhjvn763R9aa39viXMIuJTksoN+vy/ZwIeHh765FdpTQmOZTmLteWA4RRvuACR8o32ZpDR9HqaQE+E0LbjwmgP0+31BLs9P+dXr9eR7HqsDs1wHvl/EIhcizVp7AODg9HXDGPMeJnn854J5N0YWyLgVwzSkBioX1AIzmYznt71eT5DJ1Gyek6yJNhy1QyImHo975Bdz+AGIF5/X1vKWyov2PWYyGVSrVYRCIYm8t1otNBoNbGxszHz+RZS2kvZojLkD4McAfOP0ozeNMf9ujPmaMWb2XawAREgwGMTm5qbHi6A95dQQidh4PO4Jq2hPujZoqRDoIg3tkgKmi8braIUHgCeji9/paIHeGPF4HOFwGNFoFK1WC0dHR6jVak8FQ511nrtGSyPNGJMC8DcAfsNaWwfwxwBeAvAGJpT4+zN+9xVjzNvGmLePj4+XuhapS6vj2klLOUXvRzKZFMrSST4agVqm6UXm9egR8fNvaicvndXRaBSxWEzCN9rH2O/3RebR1QVM3F2NRsOTKeYHF0JpxpgwJgj7c2vt356euGitHVlrxwD+BJN6Nb8b+Kq19q619u7Wlm/ljt/1xGClN54LS3ZGR7Jml1o5cbOAT+9Fzs//lEFaZvL3VPdJPeQAlJVUVty0bwAS4WbSLF1YpNh5iDk30szkCf8UwHvW2j9Qn19Th/0CgO8uOtcyQLYyGAzQbDbR6XTE+6A1Pp3TqG0s2mvaV+jaVKQqF7FUWrTCQqOaSCNieU3tstLIDIfDkpZA+8z1YfrBMtr1MtrjTwH4MoDvGGO+ffrZbwP4j8aYNwBYAHsAfnWJc/nepNYouUMbjQaOj4+lnozCnvEsGtCJRALb29vo9/uo1WpiFmjKdBGmo8w0JcjK6ALT7CsSiUjAlQjTGVekbios/C6ZTEqKhP4dAA+1uQb+uVV+a+2/APCTjCsXXvBmeaP6P290OByi3W6jXC6jVCqh2WwiEAig2+2Kw5jUFI/HcfPmTdy8eRONRsOjutPjr4OmfE3lgoaxdg7rnBBXoSHySVHWThNb3TQCytp6vS6codPpoNFoeKLwfHb9twjWkiOihb127PKGm80mnjx5gsePH0vpklt5wvQ11ocFg0GUy2VPlEB7SHTEmt537Z0gQqg46BIoAEilUhIm0t4XUrOr1GgnNI/pdDqoVquo1WrisQFmVwzNgkt3GJN1EFz1tt1uo1Kp4OjoCA8fPkS73RbK4I6luswwCgDxRFAr5OLrQCfZJheZ1KXZk46T8X61gkMKpWKhVX0C5Rw3CJ95MBhIDV2j0fA8P5/PXR8/WFveowtcNCKFtdP0K+qFJRsaj8doNBqS7cQwv5Z/VBb04nChdSIQqU1rqEQy5V4oFBKWqzVNLeM05ZIbMBZH+dZqtTy+x3mb2A/WnthD0Pyc2VfU2Kh2u+ryeDxJGW80GpJ5TBuMQUZXzmlEaW10OBzKQpONkuJcPyX9nGSP2v1ECh4MBojH4x6k07DXiolrhlxJmbYIGCNj3gUAj9ZIxLmpBDqlm9m/4/FYoszWWkkX17uc59aBU1c7JHXRA6MNd8badJbzaDSSkqnBYCCUqZ3XjKlpZC8LVw5p3NmsiKE2R5amHy4ej4si0mw2USqVxE6ifCL1kE1ygXVBBREOwOOFdx26ZJ1UNGj0M9+EyNXmhpZT+v41e+b5NQeZB1cGaaSaVCqFVColu3MwGMiihMNhCYuEw2EkEglsbm4in8/DWisaH9VpnT9C+4+LCkCOo8eDYRbA28eE39NlRcrkBmCQtNvtSg6LGwDVLjkqMatQl4YrgzSCznUslUpP5RAC8NhpsVhMWFq/3xc2xfgVQSsPbsBSyy83ZANMc/K5+MlkUuQsZSPlnE6FIPus1+ueeydigeVyQly4MjkiZB3dbtdTRDgcDpFKpcQLQkrgTuef9v9pWcgF1RTCc2iWqV1gNMRJlToAq2N6VOO12wuYBnG1hunm8TNQqp+dr6+cyj/vpshKWq0WarWauI5YqqTtKl0M6PoCZ7EdKiaUedpZzPc6HgbgqdekSO35J2WS6ngcqZrI57n1BnHdeFdWe3RvVL+mZtVqtTwyB4AniYcLTPtHV4ASAVwAapp8zWOIZG0GAFP5ys905IDn4n+dYEqEUCOlIqRDTTrG98zINE1lLtVZa8UjTp8g1WZ6OLQd1Ol0xINCyuTC8M81E7jrWaakWWU4HBYWSLsNmG4a7aXXUWtGAsg2I5GIJNlqk4PmA1Mq/NZGb7ZZsFZFRCOMLIf2VC6XE8FOVqgDnVyMcrmMdDrtoczBYIDNzU0x0Fktox3B/EwjdTAYIJlMCtXSbmNRBwDZSNqvqSlKpy6k02kEAgFpEKMVHq3ea1ttGRZ5pbRHup8YMqE9pdMNxuOxtFEiGyqVSk9Fimu1GhKJhCTicDMA8FTg6HQ2UhiNYMDr6SclMwTjBjOJjE6ng1KpJLYbEcwIBiMXPL+GK+nGmgVcHJ2PSPtHKwk6dMKcR9puZLdEPktr9XkAeFxPWjngccDUU+KnnFCe+aUN8Jher4dqtSobQAdY6Tbj8W7U45kxrvWCMMcCmIZuZtlqlG38Xpc/0ZbiJtDOZmDq5+NGYN6k/pwbQ3dKcP2gbjSaChXDSjQrmJ5Ap8FZ4cogDZjuOgprguvIJZCdaVZG+0drkPxPWaZZmrvTeT2tPRpjJFIOTOWQa1zr0I4OBRE0F9FuOW2jLQNXxk5z2ZX2/+k8Dr3IkUjENxVN+/zIcrVdRtakM5d1zI5IIzvTgU5qoFrLY0RdI1ibJ9pk0FRJpOs1WAauRMcewLvQ2uUUCAREgaCLC5hGlnUYhQhiDEsbwWRR8XhcrkdkcYF1T2S9UXhuXa9GrwnvC/CyQW2T0WPDgOhwOJSkWJ6fG8Stq/ODtbFHl9q4iwHvzqV6T0Ry4bRcIcvT5Uc0FQh8TTanZQoRpBeRbQNpJyYSCWkGqgswXOrUyKbXn9la3Kj08ADT4n29DldO5Z+l0nLB2Oq2Xq9LejebQGtHbyAQkH5Y2hAmm2PuvC6scL0YWrnhghMhNBP0NWkqdLtdj4eD5olOzSPlAtMUC3pv6Nh23VsXaqcZY/YANACMAAyttXeNMXkAfwXgDiYpdF+y1laWOZ8f0MbS6i5ZX6vV8sS5KPzpOWHRBDDVNskidRxM55YA08XUyKKXX9eQRaNRQTDZo5vIyp7G9OoAkFxHprNrTwlZqx+CFtlqq8i0n7HWvmGtvXv6/rcA/JO19hUA/3T6/kKAO59JPdTEdHcc10SgzaRzNYgIIkbLQA08lw5c6nP3+/2nkmM15ZMlJxIJ5HI5pNNpeQ5uMrJV15zRz+zezyw4jyLy8wD+7PT1nwH4D+c4l0eL0+4efkcgO+Ju1VqlRiYRz/+uwaq97Fx4+hD1uajGc1E1UnUdXCKRQDabRT6fRzab9fgcNevmJtAlvG6IZhF7XBZpFsD/a4x5x0wmWgDAjp2UQQHAIYAdvx+aJQswaJ/pno1EEPMwtJcCmBb/6biZztwiNZBKKf94PWCahq7DPMB0cwBev6irovP8qVQKGxsbKBQKyOfz4kLj8Vp2MnFVbwR9zotSRD5vrX1ijNkG8HVjzA/0l9Zaa4zxvZJ1JmDMugAXhJlYzWYTwIQiqLnpqpZ0Oo1YLCZeBy4gZRibU/M77caiCUC5pRGkKYDXo5tMUxmpnf7Ifr+PbDaLra0tRKNRPH78WDRDasDaSeymNRDmxQMJSyHNWvvk9P+RMebvMKmQKRpjrllrD8ykGONomXPNAq2660WmHEulUvJw8XgcvV4PhULBU/Z0eo+IRCLIZrNi1+luptozwgXSVS3ZbFZkJBUedrujRkqNT9uGhUIB29vb2N7eRigUQj6fl+eiRktuwHQDvQn4ehkDe5mqmaSZlO3CGJME8L9gUiHz/wD4z6eH/WcA//cyyJlF/tQQqREC3sSbTqfjaeeQyWQ8vTtIPWShjUZD2C0wzRQGIHXQepOwFaFWZBjHY/ktqZhGMn/b6XQQi8Wwu7uLra0txONxTx4lEUfkcXKGK2f92KUfLENpOwD+7vREIQB/Ya39B2PMWwD+2hjzywAeAPjSEueauZPIFnUAVGuBVCZo/2jWptV27djVx9CjwVAJr6HtPq2JuoY7WRyfQVMGvTjxeBzZbBaZTMZzrJ4JQFNEOwlc43oRLFM1cw/AZ30+LwP42YVXePp3T33GBaAbSbMgHq9tOObEs827ZlNanddKh2a1XEi9ozWitXanN4U+l5ZPmmIjkYh0hNWaLH+r703fu37Wi6C0Cwf9MHoRGGKhj1CnbOvf8jN6+LXhq11LLtI0tepcf96L9v9RDuqsLMDLZvlfq/60B2OxmGfECc/PeybSaHQvizBgjW4svwenXAOmDmF+R0FO2eUuIs9DCiUL0hSjzQGtAFDutNttiUoD8GijOpdfRw+0MqNT9WimEDGaxeuaOG42vYEWwaV7+fUCcwF0YJH99zU700YyF5yF6rSHiJRQKIRMJoPBYOAxmEmBADwRBLI9UpOuG9NhIm0HAtNyJiKO0y0SiQRSqZTMUNObyS0/1mkPy9hnhEtHmt6temeFQiGpsW6326jX62KjkfWEw2GkUinkcrnJzZ+G/LXbaTweS/GfrgTVf/RWaHOBFEHNlf33SUW6PEmPlGQaAe9He1p0W16dWtfr9Tx9kTWy3CCtH1wZLz89H3woVs00m01J1yYrYs68nkbInUo2pYcB0TmrvfQ60xiYssJ2u41EIuHpnDAcDqUPCG02UhgHJOiBCRxvycg1c0Q4YZEbwGXTwNOzZ/xg7S3eCd1uF8ViEbVaTSYLavtGKw7D4WRCUzQaFdeUjgLTX6hZIj8fjabtbV15yNc6kZS/b7VaEq/j55Sv1Dbr9TrK5TKOj49xcnKCTqcjyUK68VmtVsPJyYmEc7gRljWw154jwpsMBoNIp9NIJpPY3d1FMBjE/v6+uIoYCGX6HFlSKpUSxHHR6ZWn9qczknktbZvpXa/ZpjYlhsMhkskkEomEJw+SGuIbb7yB3d1d5HI5dLtdvPzyyyiXyzLBlyGfYDCI69evY3d316OVEi7ETvu4wLWR4vE47ty5g+FwiK2tLfR6PTx8+BDGTArMucspa+gtr1QqT7XvYxdTdhgg26VtpjVBN8+RyoireY5GI+RyOeRyORmxzPOEw2F89rOfxe3bt5FOp6VXVyaTQaVSkdmgjOPt7Ozg1VdflU5D+n5cX6QfrEWm+d1UOp3G7du3kc/npenXnTt3xMWka8OY/9HtdnFwcCDeFMosyplEIiEOXHokrLXSkp2aIZWRVqslNXAAJDoATJCZy+VkvDId1iwqLBQKyGQywjEymQxu3bolbD4ejwsLT6VSwlV05Hre+mi4MopINBrFxsYG4vG4DOOhHNOhfJ3rEQ6HkcvlcHh4KOGcfr+PSCSCer3umY6ry27dWjL6CXXIRKfl0ZX2wgsvCLUlEgmhfPoT3dnWboNP5q0kk0mP+u9q0q5P8qk1XNY2uAgwxhwDaAEoXdpF1wcFnO85b1trfZuJXSrSAMAY87adpix8YuHjfM4rUwn6HJaH50h7BmEdSPvqGq65DvjYnvPSZdpzOD88Z4/PIDxH2jMIl4Y0Y8wXjDE/NMZ8aIy5sGzkqwLGmD1jzHfMZLDE26ef5Y0xXzfGfHD6/0I6ql8K0owxQQB/BODnALyOSSvd1y/j2pcMl5I6f1mU9hMAPrTW3rPW9gH8JSZp5Z90uNDUecJlIe0GgEfq/WNcwBSNKwZnTp1fFc6FtE+6nFoRPm+t/RwmIuDXjDE/rb+0E9vqQuyrMyNtRTn1BMBN9f6F088+MWBV6jwAT+o8IHMMzpU6TzgPpa0ip94C8Iox5kVjTATAL2GSVv6JAHPBqfMLr3dWj4gx5hcBfMFa+yun778M4CettW86x30FwFcAZJPJ5MuvvfbaOW/ZH9yEUEaddbYVo9a6bIq/ZWayThDSeSJsCurWxH1c8M4775RmhWY+9iCodUqd3nrrLc/3fg/ubiSd7OIm6gCQRNNms4larYajoyMcHByg0+ng5OQEpVJJuudsbW3h1q1buHbtmqQbdLtdmdepq07ZeKzb7eKll17C5z//edy4cUMCoMzyWpRo6t67DowyB0UnGJ0GUh/MOt95kHYmOaUR4mYe6ZA7H8I9xv2M0episYiHDx9if38f1WoVh4eHMnGi2Wyi1WpJt9ZyuYz9/X1pxcRCfGOmPfeZN8LUA2Zjvf7667h+/TpyuZykrrsp5rOe14+ruc+sP5sF50GayClMkPVLAP7Toh/NSlzxo6BFN88d2+12US6Xcf/+fbz//vuoVCp4+PChpOIRAZwFure3Jx3iSE3j8VgK3XUqHbO1Dg4OJE1BZ3q5uf2zEOf3fO73erPOgzMjzVo7NMa8CeAfAQQBfM1a+70Vz+FJZPGjunnZSWQxo9GkpXqpVMLDhw9RqVRw7949T0MzY4wgkI2r+VvKQZYi6Yqa0WjSNLTZbGJ/fx/b29tIJpNIJpPIZDKeRjXuffotvv6MNQRuwuoiOJdMs9b+PVYcFLRoJ7rfz3sQLjZ3O6kJmKZoh0IhSewh0ljyC0BS75ixxYpTPQmj1WohmUwiEJgMKmo2m2g0Gmg0GqLYzLtPN13QrWVwj71y2VjzYNmdposadKMxwtHRkcgmprsx+8laK2lyehJFLBaTLuBcTL7WDaiPjo6wsbGBnZ0dtNttxGIxkW1+zzFLjulN6taDXzmkuVS1THKmH+haNGsnA1iZR8g8fxZjANNOCEx5Y+ayVv/D4bAgWE+o4DH1eh39fl8QxxkCZK0aFj2jVqhcSlwEa0Ga367yk2fzfu8+KJuq0N5iwQRnlSUSCaTTabTbbfk9W9+yQEL3Nibr5X3ptG7d50Q3RJun+vtpwmeFS0XaPMHsalCEeZqmri+jUqFnb5Iky1QAACAASURBVJJ1sieJtq204c3Ub2Yxuy2fWPmim7iwTYVOR58Ffhtz1vdXMpd/njq/DGtwtUpd+KeNYiJRG668Nisw3bJbYJoKTmTo6lHdrUA3J1uUEazv3c9uc9fkSso04OkbdP8v2nGa2nRTGGBaa0bEUma5/Rn5n5oma61JsbqInVyAG4UyUfco0X+L7vs8bHIt5bt+D+g+7DJaFI8Lh8PIZDKiHLCkV3squNCUVZwxqu0sXXCvG8qEQiFBptsPWVPrWX2Ry9h3GtY2AcPPNlvWE6KBxxJxu7u7UpVJIGJ4LF/rJpqsISsUCohEIp7+/NZOeuzncjlks1kp4udwcrZSYoXoomfX9z7PtTUL1lI149YauwbnWcwAdtKJRCJSP6bZo7VWKmpoc+m+jVQ22u22nJNqfLvdxmAwkOL8eDwuSNaVPKve81lZ5NpnzfA98LRRuoqxzVprOnIzmYwgQPcYdjv1ULPkOThJg0hmaS5ZpC4p1prjsi0l/FihawYtgkuVaX6y7CwskaAfll1L2W+RFKurRLngrrZH3yVtPa096jibHsLa7/fRbDbl+GXV9XmwrBy/MpWgq3oGXMcrCwi3traQz+eF/ZGy3G4+/CNr060ttBJD0P1MdNTAHZB3lvVYFdbesUfLsLPIMi5+JBKRIvV8Pv/UUB+C26VVN58hQrQZoeNrlI+6vZO+d70p5sE87rLMGlyZ5i9uX+FVgE5ghkvS6bS0jtDgquZu9Fi7puh71OehLOPYY9ppunXvvHt0Wegsl94iuBLDFLTjd9YxLugHJLUwjyMSiWB3d1fCLaQgF7QXRSsebosmgvaOdLtdmbHN7qqrLLy+Bz+EzoMr0fxlFrtY5Djmf8om2lvZbFa8/mwvQYcufZNEsm54zZjbeDxGp9MRL4l2cfFcVHLokOa9zNKEl3nmZcXDWhzGroGpPQykunnthlwlhGyMFJXNZoX9RiIRCYwC8CgYelACf8tra4SSZQKQBqG00djRgBGARZ5+v88WIdiFtQdB/XbcsixGH+cm2OgQDNkcO/5Q+9NIY28SapFsYUHnMu/TnQ+gBwO5z+XHOfyiGqvCpdtp+j/hLMLY77wAJNGHoyV5blIFKUT/lovPVk70muiItaZOslNNmZR3Z1mDVQ3stVMaYVkv+SzQ7FUP8iFlUO4x1cDtnMo2TsYYT/qA7iXJbuG00eje0qaD373Pk1uuWLgQj4gx5qYx5p+NMd83xnzPGPPrp5//jjHmiZkU0X3bGPPFJdZWHkI/4KoZu4sWhgFKPYtG54To4CVtMmutOH/j8bjYaDr2Vq1W0W63PZ3LtWMaWOzh8WOZq27UZShtCOA3rbXfMpN89XeMMV8//e4PrbW/t/TV8LSN5LK2Rf0OZwlqnX3FjCrdDJPnpS/RPV8gMJ0e2Ol0PN3H9XFEOCmSWVruva3qKFhFGVmmW/gBgIPT1w1jzHs4R22Zpi69K5dBmP69c4/ymn5EHsuGZOyAOhgMEIvFPJlY7mwbyjjdBZznMadOZso03aN/FU7hatCrwEqKiDHmDoAfA/CN04/eNMb8uzHma+YM9cRatdfR4bMCVXW26WOgU6fFuUqIDtOQypgKHo/HJcyTTCaFbQLTOQJE/iwlaxGcJZ62NNKMMSkAfwPgN6y1dQB/DOAlAG9gQom/P+N3vgOCNILOo4Bo4ALo1urAFJl63rRWQhjVpsGs0wxosDMpiL+n/9Ht378s8uY98yL2uBTSjDFhTBD259bavz09cdFaO7LWjgH8CSb1an438FVr7V1r7d2tracrd1Y1LGfc31OfaXWfFMb0Nx2qoeam8/b5mu/JvkmZwHQYgk6zm3c/i+7/QhURMznbnwJ4z1r7B+rza3ZaT/wLmBTRLYR5HoDz8HkNTLqha4o5+vqceiYaMKFOjgELh8OeoQeMobmT7IlYIp7UfREsch4soz3+FIAvA/iOMebbp5/9Niblum9gUke8B+BXl7ngogc6T5iGi8dsKioZNI4Z3Y5EIpLYqhUKTU1aw9SxODqTeW9uo81l73mWS2+Z515Ge/wXAH5nWanwYh74GZarIE57FAaDAarVqkdDYwIPADSbTU+GVjQalXwPGuX8nR65ZU7dYfQxUovUnVmXTTnQz8f752dXtsU7H2yeIbqqCq3Px77CdEeRMtjnmH32AcgUDZ6HbXDJ+jj3hgY2WSRHKvMcyyy2fjb33leBtabQAbMj1+eRaWR1BLJAvbOJAKr1xhiUy2Vxg+lRWdonqTOyEokEEomE53kWbTZ9LJ/TtdsWwZXxPZ5392kWyQbP1Po4U5oyjseFQiEpzAAgk+uppNDLQk8LHc78I8Jd22/es7nO4VVYKuHK9OVfxWE6C6iIjMdjYY06q1h7NuxpDI4DWAEgmUwCmKaV64AnMB0KRJuNoyL1PJt59+anfLgUxs0yD9aCNJ2rodnieVij/g0dv9Fo1JO3r53EpL5cLoednR0EAgHcv39fXF06K1m7t9zogZ8P1Q80ctwsr1XFwqVHrudVmJyV0jTLMcYIG0un06jVaoI4skprrSS0bmxsIJfLYTAYSEhGG9w8JwcXkf2SO5ycnCwsdXKRqmWY+7yuzPODtRcVap7u5iUuC/o34/EYjUYDg8EAjUZDKIOGMzsctFot1Go1yR7mbyORiLBHUlQ8Hhfqa7VagtRer4eTkxM0m03kcrmnnsd9bv1fa7x+UYJ5cKlI04vr5xk5L6XpikxOyGBRBIOfPFYbw8xO3traemoaIu/Vr6OP9kHyu1nPrV/PorJln31tyap+Kv5ZkMYFoJ+QoIepUoXnufXMGWqP6XQa8Xjck1hEucbfMI8EmDqhqYXOu/dFyFlVc17rrJlZisiy4Gfv6IJ3TuflsUQAqSsejwvCqMYToaRcUh3dYMA0S5l+zUUtKdzndu9dv19mDdaWYexqi+dR9XkOssFkMinFhW4aOM0APYuNHg6dEqf9mPwNKZafJRIJaWOxCpzXJr0y3cLPG5YhQphlzExjKhREAN/rjGOySmunzcUYRGUyKvNMmPxqzHQy/CKPxjy7jM/guuLmwVqQ5kdly6i6fudxX1NTZPYvvflMraP2x2uxFIrGtu4HwhrsVquFZrMpE+q1ka3tuHn3OU/F93ueebD2XH79MGfVHAk8h+4HotVwrS3SOUxPfzAYRKFQ8LiXGO0ejUbSLlDHzbRZsej+/TYY73+Zibsa1lIoTzivF8Q9L9V9OnHpnaejlwrFcDiUFAKt2lNOkTJ0uoG2JXWp06zo9SLQz+3adlfOuF7U2WYV0NSqKSQWi+Hll19Go9FALBbD48eP0e/3PRTHGJgOYlK2xeNxkVt6URkzc+NtNMyXKZTXoDXnK+vld91NfgY2sBrV+YU6otEorl+/jmq1KllTbNapWRsXnFQVCoWQTCZFFroLqdPAacNRc3SfbVnwQ9yi369Ne1ykRa1yHs2ydCLp5uYmstmsx9D2c1aT+infNDIACBuk/NHmgp41uup9u/J82fOsxY3lwqq7k7/hYjJBtdVqod1uS3NOYKpNdrtdkVGUcTpVbjgcotlsotlsSoRbX0unrpOFErF6jvayz6Epa5acnwVrK5Q/jxJChDHU0uv1UC6XRZNrNBqejUDqojaoUwoYYqH9peNtvDemFWiZl0wmkU6nPfOuV30GvSarbNwr091gWdAuJiJMZ151u11R57vdLk5OTlCv1yUHn9TARFMWwVO1j8fj6PV6QlmxWAypVMpTZRONRpHL5bC7u4vNzU2JeK9y/36uu2WVkqWQZozZA9AAMAIwtNbeNcbkAfwVgDuYpNB9yVpbWeJcZ0aaRphu+cfFZMEgS5lKpZJ0CmcT6l6vh3Q67XEuU/Nj/2JtZGvZRqojIvP5PHK53FKRa309IkVr0tojsihyvYoicmFjpvRu03/uMbPe698QeVx4xrnq9bpHNmnfJH2JGtl0f9HLocMyDKLSq8/vdTO0ZZ+X98I/coxVepGcR3s805gpvbi8US78vD/AqylSAWHhO/94vna7jUajITmPzAzWnn4Awu7oRdFGOP2Q2tVFitHVofOi8QQ/153LGpdF2rIyzWIyZsoC+G92MtViqTFTZjq2BDdv3pRdqx+G9s8sx6n2TVJZILLI9uhj1IYy/YxU4flbnfeoczTIqkhtvAfKPRruxhjZAHrzzVMm/JSNedr0PFgWaZ+31j4xxmwD+Lox5gfORewpQv1uQMaWfO5zn7Pa/QNMO72Rv8/rbqCVjVqtJkZwq9WSBNVYLIZcLod2u41CoYBWqyXdw/nHVhNEIvuAaDsPgLBWIpEUxc1DrwldWYtsLdeAdo3pZY3zpZBm1ZgpY4xnzJS19sCsMGZKO0eJHN1zSlOVmz9Cdlir1fD48WMcHR2hXq9jPB4jkUhgY2MD2WxWHMW0yaiiax8hY2qMSNPvmEql0Gg0PPKMMgyA5FQy/KPvd5ZXxA9Zro2mjf1FsEzVTBJAwE6qQDlm6r9gOmbqd7HkmCmyFV3QwM8AiFDXKj1lB22yfr+PdruN/f197O3tiTGdSCRQKBRQKBQQjUbRbDbFe6EbTvM+KLO0M1mnj5Pt0uPhWbTTc4bDYU8Z1TxK09TkIsf10iyCZShtB8DfnZ4sBOAvrLX/YIx5C8BfG2N+GcADAF9adCLKCz8PgBbS2obRwp8GNb0fR0dHGI/HqFarnnz8cDgsrf2azaaHWrhpKON0+jc9JrFYzNN4k6yalaXMd9StcVcFV8Yt63cElquauQfgsz6flwH87Ir3KhrZnOsBeDp/xNUgOT6EjTVpZ5EyNHXqJp2sQ+M1GJUGJqybuSW60w9tNZ1uoNvDuwvtfub3DAQ/Nnpl3VgaXH7vqsb6t7pPFZUSekZarZZQUiwWE58jqUnHzYDpBiJSjTGS5OPmluhra+e0RsQ8RWIRNa7icFhrNpb+TKvdLrUB3m4INEZ1gxZrrRS4kxLr9ToqlYqMMOHvYrGYh71RviWTSY+dBkw1Vp0ypxt08nrLGNh6M/IzP9NmEVyZqplFNotml9ZaKbCgwzcUCol/MRqNolarodVqedrb6v78uvkmZRmzhCmz9AgvGueUq8xWprz0c0e5XEK/5vdaCXGPmwVrRZqfIa0/10D/HnMVAUjuPRUPOouZYVypVDzmAymi0Wggl8sJpZJ6ms2maIRaezXGSB6/bu2utUc3LDNPg9SvVylGlLVY+RcXBH47b5aA5nvKo2w2i7t37+K1117DgwcPsLe3JyxQx8XC4TBqtZr0sGKjaGMMWq2WyDyaDfV6HcPhUNggUxR04JOsMxKJSHCVytEsaplHPbM27jxYC9IWybVZv6EbqVAoIJVKodfr4dq1a5JaUKvVUK1WZUYoB7gyf5Hek2QyKf37OXaLiowO2biqPQBBFs+h+/ITVlHf3TV5pmQasPghaYNxp7PlRCAQEISVy2WJXAeDQemoQzYaCoWwu7uL69ev4+WXX8aNGzekUXU6nUa9Xkc0GkUmkxEnAEt4t7a2cP36ddy6dQs7OzvIZDJy/Vmy7OOAK4W0RcDF0FrfaDTCxsaGTBpkTRoL4IPBIFKpFOr1ujSM/tSnPoVPfepTuHnzJu7cuYOdnR2h4OFwKD7LTCYjc2lSqRSuX7+OT3/603j55ZfxwgsvSABUyzQ/++wszzgProTKv+zvXLWZbiiyTQYm6/U68vm8FLNns1lhm8PhELdv38adO3dw48YNbG1tIZvNSlUoANy6despuReLxfDSSy/h1Vdfxe3bt7GzsyPsdd7I5HlwFk8K8IxRGkGryrSftB+RanqhUBCncC6XE+/Hzs6OaJ7cDGw5yALBVqslWmmv10M2m8WNGzewvb0tja3Jbv20Qu0FmYVM11OyrFwzZ8X2WcAYcwygBaB0aRddHxRwvue8ba19upkYLhlpAGCMedtOUxY+sfBxPueVKXV6DsvDc6Q9g7AOpH11DddcB3xsz3npMu05nB+es8dnEJ4j7RmES0OaMeYLxpgfGmM+NMYsnY38rIAxZs8Y8x0zGSzx9ulneWPM140xH5z+X7mjuh9cCtKMMUEAfwTg5wC8jkkr3dcv49qXDBeWOj8PLovSfgLAh9bae9baPoC/xCSt/JMOZ0qdXwSXhbQbAB6p949xjikaVxSYOv+OmaTCA0umzq8K50LaJ11OrQift9Z+DhMR8GvGmJ/WX9qJbXUh9tWZkbainHoC4KZ6/8LpZ58Y0KnzADyp8wBgVkidXwTnobRV5NRbAF4xxrxojIkA+CVM0so/EWCMSZrJxCuYaer8dzFNnQeWTJ1f6npn9YgYY34RwBestb9y+v7LAH7SWvumcxxLnbLJZPLl11577Zy3/D8GvPPOO6VZoZmPPQiqS53u3r1rv/nNb/pmGDPNbRk4a/T7LIFJfb1lfj/v2hp0IaJfZ9VgMPhg1rnOg7QzySmdOj0vGWZWNPcsCPPjJn759rOOn/fdouvqKPus+/Ire5oH55FpK8spN7eR4JcQs+iYVWBWDuW8Y84LfsUWfveg12TZezgzpVlrh8aYNwH8I4AggK9Za7+3zG+XXbBVUqVXveayx7jlSGe5F788kFnXcVmzH5xLpllr/x4rDApiwukspJ2HBS4Dyyz6vBz8VcBFlPteI4nZyctuiiuRQucn49zvZ/12EayqHc9SQs4Cmv35sWR+zlIrKiSLOtmtdarTot21bErZvGu5VSnuPejzL3PMqjCL3Wnq071I5ikuhLXmPboq9EXtcPf87mezij3mqfnnpbh54Da6XgRr7cuvP1sGYauwSY0cl2JYU6YRMkvernrdVcHdMO58AT+48hnGy9hYft9rlVu/ZlEgP2NNgDu6eRElLgvLbjBg2mp3EbWtDWmuKk04rxxzr6H/uCgsvWVrCfYxJiyDOFdFX2QuLLpHttvodrtXj9LOYuusyj512yPdh4uF9ZVKBf1+H8lkUpqZ6W6qWgXn9XSvYn0fPG6WC86V1y6r1i0QW62WdGqYB1eKPc6irnluJfdza62nFQUXhoXzJycnUsPG4sBUKiWzZtjSQi+oMUbaXehm024ja2CKSK28zDNlOD+g3W5Lm8NMJjN3na4U0uap/ovYpV5kVnFSdg0GA1QqFdy/fx97e3t4/Pix9Cve3t7G9evXUSgUpMat2+2i1+tJWW8oFEI8HkehUJCKGQ5ToDz0693I+wLgGc8MTLsT9Xo9oXy2ubiSkwr9VHy/Y/xe698DU1bIh+Yw8UajgU6nI3PSDg4O8MMf/hD379+XTqrGGDx8+FBaUeTzeUQiETkXm3uORiOhyI2NDaHKVCqFTCaDeDyOdruNXC4nFMliQ/bZKpVKODk5wWAwQCaTQaFQkIEP77//vjSeSaVSVwtpWgX3U8X92Ijf565yQapgXXW9Xsfx8bH00Do8PESxWMT+/j7u378vvR0B74gtFiG2220xDdg1j7KPPYzZYTWZTCKZTGJzc1PKgNlELRaLodlsolwuo1wu4+TkBIFAALu7u9ja2kI+n0ev18P+/j6GwyFSqZS02J0Hazeu/d67QttPC9SvO50Oms0mGo0GGo0GKpUKjo6OUKvVsLe3h/39fRwfH6NSqaBarUrPEd0fkv1EotGoNJ8mGDPttMr3eqxJIpHA9vY2CoWCKDesUCXVV6tVNBoNhEIhuY/t7W20222Uy2UAkH4l1Wp17rpdCZnmUpa2oVyjU3fe4X8KcXboKZfLaDabODg4QKlUkkYwrVZLlAn2t9JurnA4jHq97um+SplFRLqyiZrn48ePkc/nsbm5KWNTOOYym81K+3lrLWq1mrRA5IZjt4ROpyNInAVr743lUhE/08cD0wHjZFnsqgoA9Xod9XodtVoNtVpN+oWwhzFLc0lhfn2PAW8PLG4Itpwgi2y32wgGg+j3+zKmi83UAEhnhU6ng3q9jkwmI/0nyb7Zil53mWW3hGXm1qx1kKt+r9vS+skwyi7+UVVmw5Z6vS69RNrtNqrVqqenVTAYlEXp9XrSwc5V7akcuF4JdqUj9fOcPBcRT00QgCCU9d1UbKy1qFarCAaDyOVy2N7exubmJnZ2drC7u4ubN29iHlw60thuVudFsO+itoGAqceb2iG1QWp0tMeohFDrIzVoCgAmrIwsS3f71n0bjTHSI1IrTvF4XObPsGEM2RoVG80VeD9sO8++yeFwGO12W3qTxONxaXXx+uuv49q1a56Gon5w6dojkQPA4++jraPfa6DXgIaojkGxJQQXmb0euUhsasbuO5wno5FHZaPf73sQzeMTiQTG47H0I+EwIWOMfMfz8BnZ0qnX68kkRGutjGUGgHQ6jZ2dHVy/fh07OzsoFAoLPUZXYtYMv3O1RldbY3sJrYrr3sL03emWfoBXrQ8EAkKpbHqtR3JFIhH5HdvDZzIZ2f2BQADtdlsanAGQOTaMHtCrwmkaoVBIEMnNwXPt7OzgxRdfxO7uLjKZDFKp1MJ1vHT2qHv9ErS26CKV79knhP34W62W9BjWPfpJVZry6IYi1QQCAWn7x2vTICaV8r8xxsNCqeZT7lHr1OdiG6hQKCSN1jQX4L3F43Hs7Ozg5s2bKBQKMsxhEax1QBBhHtL0wmuvPABZXHrJKfj5nr/n7qb7SV+TFBCJRMTn1+l0PE2wudh6ggbZHQCkUikcHx+LUqM7CYVCITSbTUSjUWHp5BbZbBaFQkFGhnFc87nHlhhjbhpj/tkY831jzPeMMb9++vnvGGOemEkR3beNMV9cdC4/0Jqk7lDqao76fSAQENcTfYC6ew5ZLbU4qvXhcBixWAzZbFZex+NxkYkApM07lSD2+ycl9Xo96QMZjUblHuiWckM8ZKvUOOkpSSaT0nqQSpO2P+fBMpQ2BPCb1tpvmUm++jvGmK+ffveH1trfW+IcvuAijAtFGaZNAH5GSiFLHAwG4pXI5XIIBAJoNBqo1WqIx+OIx+Oedu50U21vb6NarUpzaSKf98T5anQ6R6NRpFIp8cCQNbLfY7PZFG5AYDt6ylgdpyPF0o7UI1PObafZSX3VwenrhjHmPZyjtkx7wsnGjDGiJLjuIvdhtbKi3UmJREK8+1r4d7tdmdIUCoVkynytVgMw9bRwsm4ikUCj0ZBNQZmlKYCsUY85oaMZ8EagOfeGQ9N5fQ7XSyQSYsxzDS5yqhOMMXcA/BiAb5x+9KYx5t+NMV8zS9YTu4Yz32thr5Gq2SI/486l85ZxMSoSwFQj1AoKWW273Rbk0tYjRZGquMBknZFIRI7RdiZ/S3lLWTYej6WHMru1ak5CU4D3CniHKsyDpZFmjEkB+BsAv2GtrQP4YwAvAXgDE0r8/Rm/+4ox5m1jzNulUsn97in2R/BzbXE30sCl110HM4k8sjd6UmgK6HkxrrtMa5w0fNltjshyo+C0HYGns6q4Magg6c2oz8H70q61ebDs0LvwKcL+3Fr7t6cPXVTf/wmA/+73W6uqZn78x3/cuiEZV3451/VMvyD7s9Z6xmVxMXT+Bydg6MFAelAez697EmuNUTuNye5oBmiHs9ZSKQPZV5KfkYtoOxOYek6IWNqI5zauzeQMfwrgPWvtH6jPr9lpPfEvYFJEtxJoVqMRdHp+D0vUA1nphdDeDE0lTC8YjUaoVqtPaaI6TY0sjVockUMYj8fipyQVcNH5WrM6DdxUVDTYj9JvNBi5CBWbebAMpf0UgC8D+I4x5tunn/02JuW6bwCwmIyX/NUlzuWxu7TC4We7uYjkomtNUispekiC9n7Ql9hsNkVhAaZylAY3qdUY46EiAJ6517q5p6vt8nuybm44Upk+jvJTzwtYZvLhMtrjvwDwo9elCy/UuWQh+KB6V/sZ1lycaDSKbDYrQUo+GCmALIbn3N3dhTEG9XodxWJRnLsAJKZGTY4KRqVSecpI56ahG4zuK24MejyIaP0MpEy2l6fZQWqPx+PyPV1hOqo+Cy7dI0IKIDK40H6UB3j9h/yONg61NMomLrSeP80exhwjSQTFYjGPAkG3lJ6Kwetx9zebTdFQtezT+YpaC6UcJgXrnv+DwQDxeByNRgPFYlHYMw32ebDWIKhmgXr0lXus1tqAaVUJdyxZmdY4qQBEIhGk02lhp4yLaQeuVnaAaZRBmx0MpOrAJY1r9vL3i6oTwUS8njClJyO6Adh5cOlefr9GzX4apauS01DWtpKrUfKhqSBQg6OyweszTKPNDP7XYRMAokVqjsD/2gRxNUpqqfQnuuzU9Wny/6IyJ2ANlDYvwOeySE01OqmTO5iLoB2x9BNqjz89G3qD+P3xvAyz8D644KRMN+8fmI710tTEDcrNR7NDJxS57eGX8YisJZ7mekPc1xq4EIxIa3+htRbtdluOjcViSKfTGI1GaDQaaLVaaDabckw0GhU2po1vAEIRHOcFTBUJrTwBkEUntYbDYZn0S6rSLJz+StfXqusItAy/kkWFwGxNka81hQ2HQ0mNK5VKMryVhikVi3Q6jVarheFwiJOTExSLRY921+v1PJMKtYdET+KlEa0zrgB4ckQ09dN2JDt2o+HcKBrpg8FA/I5UkvibC/GIXCS49hg/A/xz9HWqW61Ww+HhIUqlEhqNhhw/Ho+RyWRExjBBtN1ue+JeeiZovV73yB8uOlkujwemNhrVeh6nk41OTk48o5tp+xFoTOsNVCwWPS45/u7cHpGPAzRVudQFeO0bTmKq1+toNBoyk5qf04tAYU7NkHYPNTyaBDwnQyb0SHCBmUnMPBTadLxHans6Btbv9+W9lmfZbNaTwKQd2BQTeuohZeqVQpqfk3bWe+2OYh6j9htaO51vxswoYCrsmUxDgc+FZ6oC2SiPByYRaCb36Hsgd9ADYKlwMLZG246aofaa8D70tF9mIevaA0Ysrpyd5rJAP9nGxbLWeuaecXHcwCJ/x8/0tHfaQ65Nx2P0sTQJtI3Gc5KtajeUDtnoUBAADwX6J18v+QAAIABJREFUaZ10czUaDZycnCCfzyOdTosBPg/Wroj4efc1tTH0Ua/XZWh4o9EQ4W+MEQ+93s1aKdAmgkamNgVYtqRtJo1gup90RCIWiwGYyl1tJ5KNU0NkUFbbh9FoFK1WC+VyWXJFKGPnwVqQpnfrLEqjn3I8HqNSqaBWq6FUKqFSqUgcC4DkeehNwAWkr5DUwmsHAgGkUilR0wF4fH5EOpFBOalzUHT+RzweR6fT8bBWBls14vhHxzDzJmu1mjzXInkGrEGmEeYhi/KC+fhHR0fY39/HkydPRN1n3mK73UYqlRIbi2VPGxsbnpRtqtW8FiPKVPOpGV6/fl00SBru3ACkPIaFtH9Rb0LKW/o6qVUyqUf7NfUYMZ2jMg8u3bgG4BHuwNNyTqcIFItF3Lt3D0+ePEG5XBbZRl/gxsYGSqWSx+sfCoVQLBblPDRkmT7Az9vtNrrdrrjHcrkcHj16JHkdpDYqPLTxmOLNxFVeVz8L80poy8XjcQmgsuCQ7JvRC80J5sHatEeXTVJOcJHosjo4OMDjx4/x+PFjT85+IpEQQ1Qn4DB3nsWFwBSRNFp11Q3PF4lEJNlGUw6phqyQFK7rCDj4ldehMkNqJjuljGYCkfbMcG2o9c6DtaWF61gVWYqmsE6ng2q1isPDQxwcHIjar+uouetp91AxoBeC8oWbgeGTVqsFAJ40cl5bU4pOOSCiQ6GQp8CDFKllJzCtPSAy+ZqKE8/FKtB4PI7d3V1hw/NgrQ3NdEjENaZZPcmiQNfDb61Fq9USO02r28zmdd1QtKnoX2SEgPYavRY695DRbS4mK3NI5bwnIoebj3KZ5oZOR6A7jWvBIsJCoYAXXnjh6gVBXYcxvQi6TImOXtabubsYmCoTNHopI7SXgpuCi0hjnQtJpFFL1bYZWRbvk+yNshCAmAB8Bl7bzd8EIPKM98NUCHp3gsEgXnjhBbz++uvI5/Nz13Btbiyt1vf7fdTrdVGZtczhAmr5BUwXTKvJ/J7siMfS+I3FYjDGCHXxjxui1WohlUp5qkWBSao442y1Wk0UBcoryjyyV22b+aXlMe2Pm0Sn0zEENA/WNlFe3ywXhzKHoZXj42ORO2SBmlLdJBiNNCKDi0hNj4hkZaaOm41GI1QqFfFWcHGp7fV6PU8ms6ZQneNPhFlrkc1m0e12JSWdtQKczd1oNFAqlbC1tYVr164tpDJgjTKNO5DyIpVKod/vi5ziwycSCWm6olXhVColpbYMjGp2xN3Oz+lztNZKVadOEqJTudlsIp1OY2trCxsbGxI+4QLrHiXcEM1mU56Fk+mz2ayct1wuI51Oixc/lUrh1VdfxWAwwP7+PhqNBq5du4bXXnsNm5ubkg8zC5ZNVt0D0AAwAjC01t41xuQB/BWAO5ik0H3JWltZBXE60ZQ8nwucyWSws7Mj6nE+n0cqlZI/euMpo+hVYA12JpORHAxgQoXJZFIWm8ijnzGZTGIwGODFF1+U6kyWIBHJbCdB1s1NMB6PsbGxIUjK5XIoFAqSU0JnNimWZkMikcCdO3fQ6/WQTqdx/fp1ea5zI+0UfsZaq/O6OWbqd81kzsxvAfg/lkGWfk2jlWxPh0GAiUbFyn8GOtPptOQQMp7FACk749CzTparFZ56ve5BfCQSkfKmeDyOjY0N7O7uIp/Py3XJViuVisdjQydzLpcTSmM6eTab9WiYlHFk37rWmx4TbWpcBNJc+HkA/9Pp6z8D8P9hAdIIVNt1+oEuj9W20mg0ws7OjicTmA8HQCiNrIeuImqUWq3nYtMnyKTSeDyOZDIp7q6trS0pp2VnHmBiIrC8lhSmS6gYzCR7p2/RfWZqqHREa7ZPRM6DZZFmMRkzZQH8NzvJz19qzJSZji3BrVu33O+e+q8VDWZQZbNZjEajp4oHCfTZUQbmcjnPdXTGFl1QWiFhlQxrzLa3t6VPFj0tVPep9RHorXcrfnSYB/AiTScQ6WP8ovp+sCzSPm+tfWKM2QbwdWPMD/SX1lp7itCnwDoFGPqhCPo9KUDntLtKhoZ4PI7RaNJwTOfE04DWhXq0j9wUcLc1hRtT83N0+4WYAG+Glt8960DuIoVjFiyFNKvGTBljPGOmrLUHZskxU/MehgvkGt/A7JbnXFBd9UITgl4RIoOgd7U2oPmZH8X4ed7dZ3HveRmK8YNZ19OwTNVMEkDATqpAOWbqv2A6Zup3seKYKb9duixr0OA6nKmC871fVhORrA1y3oumAg16Q82CZZGlv3c3qd8xfrAMpe0A+LvTE4UA/IW19h+MMW8B+GtjzC8DeADgS4tOpFnNrIXwe4B5C+ankRJcBPD67m/8No27sRbBMhSiz32WTUpYpmrmHoDP+nxeBvCzq15Q7y6/XTfr+EVwlsXVizxrMy26/ixqWeVe3Xta9CxXajj5Kg++DPhppwTabrqkyb2+H3L9wA/554Fzy7SPC/zY4iwF5SKu41KDrrKhdqqNWj+NcRasykpn3acf+/aDtaQbXMRDnhWo+mvnMqmM5gGPc1nkrPueJZdXeb5VKHRt6QYuAt3jeMyyMm3WudxrW2sl/5+hHxrm9MC44BY9LiPzVt2Qrj04D9beG2semzwvJbrnIpWx+oZekkAgIO4vRga0jNPeC+0vBLyFiPO0wmXZLb0l82AtOSLz1N3zIGyRt4Lyq9Pp4OTkRAotmIjK3lZkmzpexhQ8XTrsxyaXMU1cWFV5uRJVM/q7jwu00gFME2+okLhpCBppRJDWNAGvHbgKG3fvS8My9tuV6BYOXBzCZu1aLjaRwEJ57apitJvIJHJcB7WWj2e1L11z4srLND846071O7+fwatVe2OMRJiZWcVMLKYk6Lx7RtHnsUS/7xZ5cjSiVtE4r8QoLuDslOa3MC5VaKWC/kkGNhmUZIRb148xT4SaJY91K2fm3dc8StS+Udfwnwfmor0Qcy9mzDGAFoDSomM/AVDA+Z7ztrV2y++LS0UaABhj3rbW3r3Ui64BPs7nvFK+x+ewHDxH2jMI60DaV9dwzXXAx/acly7TnsP54Tl7fAbhOdKeQbg0pBljvmCM+aEx5kMzyUj+RIExZs8Y8x0zGSzx9ulneWPM140xH5z+X6qj+iK4FKQZY4IA/gjAzwF4HZNWuq9fxrUvGX7GWvuGss+YOv8KgH86fX9uuCxK+wkAH1pr71lr+wD+EpO08k86/DwmKfM4/f8fLuKkl4W0GwAeqfePcY4pGlcUmDr/jpmkwgNLps6vCudC2iddTq0In7fWfg4TEfBrxpif1l/aiW11IfbVmZG2opx6AkAPunzh9LNPDFiVOg/AkzoPAGbJ1Pll4DyUtoqcegvAK8aYF40xEQC/hEla+ScCjDFJM5l4BTNNnf8upqnzwIqp83Ovd1aPiDHmFwF8wVr7K6fvvwzgJ621bzrHsdQpm0wmX37ttdfOecv/Y8A777xTmhWa+diDoFaVOt29e9e+/fbb/FyO0a0cdDBwmYaVzxK4qXcEN2gLAIFA4MGs85wHaWeSU365ELqHhz4OmF3mtAqsMznWvQc3kn0WTncemXYmOeV3k5qiXKRelEP7qlCsXx7JpaXQWWuHxpg3AfwjgCCAr1lrv7fKOdxEUrdLzkUt9FVA2Kx70O3jdcHjPDiXTLPW/j1WHBTkUpRGnF998icNXLnGjgs6g/nKdexxU9z45yodfkL7k4BEzVXY/a5Wq0lLCs4tnQeXHprx05r8kDEvLW7euZ+loK7uwscG26wbnwdrzTBeVuG4yDz4iwS/lO5lgfUB7A7OfiVXcmyJH7jqPj/T/zW4yD5P0cZZwe8eVmXjlNt6ZuiiihlgzRnGs8APCe7xmhWeJzvZ77rL/G6WrcnvF20kHsOOP7qJ2zNVgDEvhVr/5+tFqdd+MG+z+G0C/ZlbLEEFSr/Xv/fjIC4QaUQgm37OgysxAWMWxWjV3+/hz1O0cRZZ6HcfboG9vmfN6vyejU3W9AY05gpOdZq1WLxZ3rjfQ+rX+iFXVQD4W10srxdslpHr57Xhf7Z40m2ceH49OlPbZuxWDkDmzFzZAUGu18NvB7umgUuRunKFny0LPJd7DpdydSUor6nrr11/ou4ubu100rCui7N20oGu0Wig3W6jWCxiOBxic3MTu7u7nilSs2Ctkwo1EjXFuLLKRTaP4U52W0nMo0CyJbd1LidnsHiev9W9hXO5nPSaNMZIASLlUDgcFoOZHcKbzaa00U0mkwiFQuh0Ojg4OMBHH30EYyaN1W7fvn01p++uYvz6ySuNVC66y/+1VuYCf09vhB4+VCwWcXBwIJMzdMfvfr+PcDiMfD6Pzc1NJJNJaRBarVYBALlcDtZamarBptb1el06p6ZSKWlg/cEHH+DRo0dyP+PxGPl8/qm2v35w6TJNLzIXfxnB7f6GPfJ1jbQ+FweRu+ej8G82myiVSjg8PESxWESxWMSjR4/w4MEDKe9lUTwwKabP5XLY2NiQTrCDwQD1el0G73EspW4MSr9iKpWSAsV+v4/Hjx+jWCyKxpjL5VAqlbCzs3P1kEZq022OuNB8AMoN9mnULJKLzrEmZJN0A1k7aeLCh9csmZ3Hm80mDg8P8dFHH+H+/fs4ODhAo9FAuVzGwcGBNIfmItPoPTo6krnWun18v99HrVaTzuIAZJZAKBTCxsaGUGSv10Or1UK73cbx8THS6TTi8ThKpRKKxSJu3rx59bRH7kbKEj30AJg01eSEIy3/2KSFCGs2m9Klm2yqWCyiWq3izp1JM+dUKiVsrt/v4+joCMfHx3j33Xfx4Ycf4vDwUBawXq8LdaRSKfR6PektwvprPdCc99RqtaT0l51fKad0s2uO6+J9c5wz55ZGIhEUCgVcu3YN29vbc9fw0pHGh6FM6ff7aDQaCAQC6Pf7SCaTyGQy0lMYgLBAUhcfvFqtYjgcolqt4ujoCKVSSToTvP/++3j11VcRiUSklfvjx4/x3nvv4d/+7d9w//59z5hjji1hb33NRqmMULaxWXYgEJBRlewGC3gVrnA4jGKxiGg0KjN0+CyhUAj1eh2BQACJRAKHh4d49OjR1dIerbWehdIzWMrlMh49eoRMJoNcLifdvDudDp48eYJms4lYLIZ+v49KpQJjDPb29hAIBITKyuUyOp0O3n33XRhj8M1vfhM7OztIp9MIBAKo1+t49913UalUPHOnueDD4VAaSLNXMdkg5RIXOBgMPjUKkg1iSInJZFKUFo4m0fKKWiIHGQ0GAxSLxatlp7k3wxhSpVIR7W1/f19a247HYzx69AgnJyei1mv1PxqN4sGDB6hUKqhWq6jX69IJ3BiDRCKBjY0NZDIZmYDBYUORSEQoh7LLGCPNpwlstRuJRGSirx5dSe5AtV47fTkXgDOs9fm4gdkxQY+oJBJnwaWzRz0tEJjYQRsbGzLnk8MQ2G691+uhXC7LIIJYLCaTCTOZjMwvI4sC4JnQxAYvANBsNtFqtaTjOP9zEi5nl3GQEEFrkmS/emDreDwWo9gd3Mrn5NgVNpJhO3oiVo8h+zj78q8MvFltg9E+4Y6tVqvCusbjsbDJWCwmlJPP52XyILuK66E9bDjNXlZ6YiBnd4ZCIVlod8G1dqjvnYupG55pFqs7jZMT6OO4EemyAoBGo/FUy8Irp/Lr2WSEcDiMVCqFdDqNjY0NGflYrVaRSCSQTqdldMnm5qaMMGHzMc4JpQeCrIut29mJh6NRAoEA0um0RxOkcgHgKVnW7XZF5nFBdQt4PddTPx/Nl9FoJHNxgIkhzsF3VEg4LIJdzufBMt3CbwL4vzCp+LAAvmqt/T+NMb8D4H8HcHx66G/bSaLPTNA7ju9p4zSbTRHupMhsNotXXnkF1WoV+Xwe+XxehnfHYjEcHh4K++NQAwr+fD6PZrPpGQYUCATQaDRw48YNMb71BqKyUy6XZQwkp+Tm83lhj3oOGqmJ56OWCUAm/MbjcQyHQ5nSQQ7R7XZlNBflHjfruZAGYAjgN6213zKTfPV3jDFfP/3uD621v7fEOQRojNLX12w28eTJE/T7fWQyGZlFlslksLGxgU6ng93dXWxvb4vsCQQCOD4+RqVSwd7eHk5OTtBoNETOJZNJhMNh3Lx5E8lkUlT2druNfr+P3d1d7O7uCvXQMOfgWI7b0kNbM5mMzKHRc7TJZume4sA+asWJRMKjYJAyAQjb39zclBltVKDOhTQ7qa86OH3dMMa8hzPWllk7adHHxX748CG63S5OTk7QbrdlZsvt27exubmJVCqFra0tRCIRmbBLA5aKS7lcFqRxoXK5HJLJJPr9vigwpAgqLdVqFZlMBsBESajX64hGo/jMZz6D4+NjWXyOTQ6Hw0gmkzKAlSyMjT3pKKDTl1599tliN1ciNhQKiWGupyu2Wi2USvO7M60k04wxdwD8GIBvAPgpAG8aY/5XAG9jQo0LR3G12218//vfxze/+U28//77oupaa5HL5bC9vS0DgSiPOImJPkY9RZBeCQ6wC4fDqNVqItdcY77ZbGJ/fx/Xrl1DOBwWjc1ai5s3b2Jrawuvvvoq6vU6yuWyzCSt1WrodDro9XpCEZRXVPk55YkN0Mj26vU6rJ223w0EAmg2m0gkEuKRofJEqr0QpBljUgD+BsBvWGvrxpg/BvBfMZFz/xXA7wP433x+JwOCbty4gf39fXz729/G22+/jYcPH8qupAZ1/fp18UxQnW42m6hUKuKI5UQkDpwjO6ICQUrglF09g4a7mwoF3WjRaBTtdhubm5vY2NiQSYJMb6tWqwiFQqjVajJViu4qKiS6eScVK2qiVPUZyiGCybZ5Lm7McyPNGBM+RdifW2v/FgCstUX1/Z8A+O9+v7WqauZHfuRHbKVSwdHREQ4PD3FycoJCoSCyYmdnBzdu3MDGxoYsaKvVEvcVkUUkUD2mpsgFAyAqvg7fsJtqPB4X6iOboxlCPyC9MVQUKIf0mBNuCHo7eA9UiDgpKpVKeTYiOYUewKfv/dxD78zk7v4UwHvW2j9Qn1+z03riX8CkiG7RuWRAXDabRa1Ww+bmJl588UW88soruH37Nm7cuIF8Pi8q8tHRkQQhqZXRoRyJRIQims2mIBaAx0inZsZdvrGxgVQqJXKRsjKXy+Ho6EjYnx5Unkgk0Gg0sLGxgXg8LsdQw+Ric4BeJpMRLkFnABWiXq8nVMzek1SyqF2eC2mYyK4vA/iOMebbp5/9Niblum9gwh73APzqMkjL5/MyCTAej+NHf/RH8cILL+DVV1/FrVu3ZMYzKWA8HouiQm/GxsYGotEotre3EQgEsLu7i2aziePjYxwcHKDf7+P4+FhUak2ZDHBSQ+R9EfEcIDsej8U1VqvVMB6PZS4bqYUb0Bgj7JJaJqm2VCrJzG7KLwZJC4UCjo+PnxrRXK/Xz4c0a+2/APDzYK5UeMHFoYeDqjs933Qb0RAul8s4PDzEO++8g4ODA08mLgBBBqlBy7lOpyO7GIAMPad2+cMf/hClUgmZTEYiynRVFYtFVCoV1Go11Ot1NBoNQRptxEajIYb5kydPkMvlxMNPSqVn5OTkBNVqVUydQCAgNh3lWKvV8gzT293dnbuOa8l7ZC4F1XRqe4PBANVqFcfHx9jf38fDhw+xt7eHR48eyQRC2kyc4amH3DHoOB6PRSYx24laIikkHA5LROHWrVvI5/OoVCpotVr47ne/K78ly2V8Lh6PS1wPADKZjIyJZICUvsjRaIRyuSyaLNknMHWF0cgm+6cbbR5cemimUqlgf39f8jE2NzcRj8dRLpflgQ4PD/GDH/wABwcH+OCDD4Qt0m1FjwETcqhw0PlKVZ6LTbZIaqSTmAtPBSAajaJYLEp/Y7JPOokbjYZodtZa6ecfjUbRarXkWsDEM9JqteQcNAv0lGFjjGc+qY7Yz4NLR1qn00GpVEK1WpVQCUcek3qoxtdqNZlhTTWe3gXabc1m0yObdJaVzmvkbqf6rfMVu90uGo0GGo2Gh0rIrjQyAIj80jYVF5qUTi3XnYxIE4O+R0bL9ZD2drs9dx3XErnWtghf8z9Vda1K04ilc5WIYZoBKYYOYhqrOpqgx0zSXqI8rVargjhqgtqz0Wg0AHhja7wWbS23ozgRpilHZ5BpN1m73UYikfBkG8+DS0Uab5o2DBdDx6A49Ju+QHpGxuOx9Mxn4g1lQb1el0XjmGSe1x3uEwgERPGpVqsSKuJvg8HgU3KQlEmPhf7PhecMblI4c2FoR9L80M5mnUah8yV3duZ3Y7p09sicC2DCZra2tsTXSOFPzY/2DR+WC0vERCIR8VlS7WYsK5FIiJ+SOR+dTkfGH1NzOzk5Qa/XE+WIqXE6EEn7iV56hoUGgwESiQTq9TrS6bTE9siGGcnWKeNkrVRsBoOBsNhkMomXXnrpask0YKKqM1jIsDv9eBTszPWgYUtKYXkrDWKeS5+DLqZGo4FkMil5iqQsIoZIpPNYJ+NQmUkkEuIRyWQySCQS2N7eFo89fZmbm5siW2nKUEPlBmTWGFm8MQatVkuQGYvFJAR0+/btuWt46ZHrUCiEO3fu4ODgQCbBP3nyBJ1OB7lcTlxXTC+jBhiPx4UV6Uxe7Uekb9Gdd80/skWyRCKcO5sUx01AGcuNMh6P0Wq1xFak3KrX65LurefSpFIpSV3Qw4ja7bYnAgDAY4K4ibYuXDrStra2kM1msbGxIfaZMQaVSsWjXJDP849USRlFw1wnsxK4SJShlClEABUXTpbXqXq6RQSDtFRGdAoDNwrPR4VEUw43CO+FDm9gmoGlZWAkEkE8HhfPyyy4VKTR+51MJkUGaK2QQUouNBeVQp9yRVOBZo80Dbirab+R7XJnU15RNjI0xOMI3AhU4ZkNzfujrNQmBA1jzW6pHbvOZgCCcCoyXJd5sBb2yGAiqYc5GHwoOl11qho1Tgp7bbPpNHMigEjkLqesIvK56JR3/I4smAiiF0OPnuR96jR2Pp++LqmI8s+tfdNJQfF4HOl0Gtls9upVzdC4TSaTyGazGAwGyOVyaLfbnvSyZDIpCKjX68hkMuKtp+FLr4YOlhK0baTdQv9/e9cSGll2nr+/S6+qUpVK79ajWxr3NGMPxnbC4BjGhDE2wcnGCYTBBLxySBYZSCCLhKxCVl7ksTIhDjFkEWMbEm9thpAssgnuDu0Zd8/0TD/ULanV3VJVSaqH1HqdLErfqe8eXVWVHlMltfWDkHRv1X2c/5z/8Z3/QUaQGYpo8BnUVyJeqmF1FM8AvCOuRDFLf1NNen6fbkboz3FcGlHbmfb8+XMsLi4in8/7xLq1tTUMDAx4ccadaPpnAHxcI011AAdmLRU9GcHZzc8y0JR+FXFCfp4rkseYd6arhvfkSlSxC9QREYLTvB/FPp+D5j+fjyA6gMgki6O2Mm13dxdPnz7F3NwcPvjgAzx+/BiZTMbH7T958sTrKPpm1HMaSEPjgeKSvhpnbG9vr9eT6rTyPBMgAHjnl/tajD7WJBHG25O5OgGKxaJfbWFjPIpw6l6e4ztUKhU/4Qjb0dVpRG1HRBYWFvDw4UM8evTIpxVxf6xUKnn9QQeV+oZgL0UaQ7I5W4lm0NGmLtEBBOphfBSfvBehKA0f4OqlOA5jEikGyRTN9FGDhbpOI4w5CdS/ZELHmUp12tnZ8Yl8xWLRz3haeISMNFGBPpeZYXV11TuuALxBofpHHVsyGajHWFJE0X2giKTDTB0TWnpkoopiDXngRFBdSulAREUhLE4OvQdX4ZmKMOb+EhF+rh59cc5KzkieV6dXnWn+5jVoZLD9MQC/GqmD9FpA3bQnA3X7hMRVpQkTvCaNofA8r93X1xdBb9SH5DMBUeOpEXUkLDyZTEZM+jDhgaIRqL+AOs/UDwyMUbhLMUL1yajzuPutIpXMobXHFaorjrvONBL43LoyVB/zPagrNRMIgAfHaTBp4ZdTicY6LUqlUvja176G8fFxPHz4ECsrK6hUKlheXvZZmYp6qEWoKD1Q36qn3qKhQXFEHy5E5ulKkFnUoQB8HAdQD0LlhFpdXUVPT4/PFVDipivBbAV8+/v7PYbJ9+Hn6UQPDAwgnU5H9v4aUVuZ1tPTgzfffBOvvfYanjx5grm5Ody/fx+PHz+GmUWCXDjj9/b2PO5IhlF/cNbTIOGWv1qSDOJhHOLQ0JDPV1ORnEgk/K56T08PxsbGvP/29OlTD0IzLDzcqmHeAF0AxoIQuedE4rYTDSmm9Q4PD/sESBXLcdR2RCSdTiORSKC/vx/j4+OYmZnBwsICBgcH8eDBA4/EAzUAl0E0VN7q15CR3P/iBqX2ribCwXBwZnsqOkHibjIHnqnBa2trHsimD8frc5e5XC5H3hOABw4ePHiAsbExv+FJCzSRSGBtbc3r8VQq5UGERtRqsOocgBKAXQA7zrk3zGwIwI8AzKIWQve2ayEsnGAq87RyuRwmJyeRy+Xw1ltv4eHDhx4FLxQKSCaTmJubQ6lUQqFQ8AkRRC44mBovQn3BgdHSfBSBikMyUbFSqeDZs2fY2try5SI2NjZ8ui9Q973IOPqCijmqu1CpVLC+vo7FxcVIQJAGAvG51tfXsb6+fqqA8Vecc5oZwDZT37Fan5m/BPAXjS5AccXftPKYfwYAr7zyih/U1dVVdHd3Y2JiAqurq1hYWPDVABgnUq1WvVPMwBsOthojGn5HvcVzNCYYu8GQOwAR+Inf110BjVKOe1/CWBoHonEkHIdKpYJCoeB1YyM6iXj8BoC39v/+VwD/jSZM44uEMptijQGhLN0wNDQEM0Mmk0GpVPJBqUBtBeXzeS+6mJrLFNzV1VUvArnt0dvb63OguQtOkJZ5aaurqygUCv5ZuV20ubmJXC6HUqnk78dddkJWAPwEAeoM13pX6lAzBH18fBxXr15FLpfzm7iNqFWmsc2UA/BP+/H5LbWZMknAuHr1anjO/x0i5jQ2FDye3a8PQl22tbUsRoO+AAAbqklEQVSFfD4PAD7EW5H7YrHoYSegHh+SyWS8eCbTWIClUChgaWnJGxh8lnK5jImJCRSLRR9Mu7Kygp2dHSwvL/vrJ5NJXwOLhWbouykI0NfX5zc8r127hunpaUxNTWF0dPTUmPZl59yimY0BeNfMPtSTzjm3z9AD5IK2JYdZRjqw3AWIuVbkR/0iiik1InZ3d32INq9Np5i6hD4dxSMjgcNkDxpPFHeaCvWLX/wisolJfcvM0cXFRZ/uxNCF0dFRDA4OYmZmBtPT056BukV1GLXENCdtpsws0mbKObdkp9hmiqRohTI63KXW7XpamZpAQdFEBhOt4HHqM13p/B9ABOlnRQLuvA8ODmJ4eBi9vb1+e0mT8NPpNAqFAj7zmc9gZWXF13MslUqYmZlBNpvF1NSUz6oJfbzDqJWsmTSAS66WBco2U3+Depup7+A020wFKzFkWNxnyJCQuMutFMfwcIKE4onOu16LYvvy5cu4fv26x0B1UplZJMKL36fBQ1FOPd/MPyO1stLGAfxk/4JdAH7gnPupmf0cwI/N7NsAHgF4u6U7fkIU98KtHgvPxQG24QqgeAZwAN3neZ0AGkKgqE/cJD0xIuKcewDg8zHH8wC+2uz7LyvFDXacVIibAAqMH4fOTLXw80ytrN5WP9/K+Y62Lbmg41HbmQbEl8W9YGbr1LES760o3F9VajYuHVlpcQobuFhtQGtj0HamNfK7jmtNvSzU6qTtyEqLo191hh2FOiYef1V12mHvzOPnRjyeJWpl0NT6PerEawSrnRvxeNLVdpqrNQSn487HZdUc9xlCHJQ/zVB+a6eIMrNlABUAjWvjvRw0gpO954xzbjTuRFuZBgBmdsM590Zbb9oB+iTfs+Pi8YKOThdMO4fUCaZ9rwP37AR9Yu/Zdp12QSenC/F4DumCaeeQ2sY0M/u6md01s3v7EckvFZnZnJm9b2a3zOzG/rEhM3vXzD7e/z14GvdqC9PMLAHguwB+G8DrqJXSfb0d924zfcU59wXxzxg6fx3Af+7/f2Jq10r7IoB7zrkHzrktAD9ELaz8ZadvoBYyj/3fv3saF20X06YAzMv/CzhmF40zTAydv7kfCg+0GDp/VDoR0152PXVE+rJz7tdRUwF/Yma/qSddzbc6Ff/q2Ew7op5aBHBF/p/eP/bSkIbOA4iEzgO1PgY4pdD5k6y0o+ipnwO4bmavmFkPgG+iFlb+UpCZpa3W8Yph9L+FWnMJhs4Dpxk6f1xExMx+H8DXnXN/uP//twD8hnPuneBzTHUaSKfTr376058+4SM3J93n0h9WDuDfWl2HyRlap4r7W2FLlHbQzZs3Vw7bmvnEQ+jCVKcbN27wOIBoXauwdkcz0s3CcHOS6bzlctmnP+XzeTx69Mg3ZGVpDBbt3Nvb8/3TWOZweHgYw8PDkZ6kTAokUxsxM25jtZV3NLNHh507CdOOpafiglSb7RgfRmGcCZPYWUN/Y2PDl7rI5/O4e/cuPvroI59YyNaV/LtcLmNubs4nS7B/28zMDD71qU/5Jg6soMBinc3i8nWCngadhGleT6HGrG8C+INWvhjHpKOKnnClaj1+Vmd9+PAh7t+/j/n5eczPz2Nubg5Pnz71Vei6urrQ39/vGVEqlbCysuIzXdLpNMbGxrCwsIBisYhr165hZGTEM48dEY866Y47SUnHZppzbsfM3gHwMwAJAN93zt1u5bsnZRhL/AH1OlOsNM6E+WfPnuHmzZu4c+cO7t27hydPnvg2Kcw1c/slkCjymBrMskypVMpXHWCfsytXrniROTIygoGBgUgeterJ4+jAVhh6Ip3mao1bj9woSOmoM04Lw7AQ5traGpaXl/H8+XP/UygUfHEZNszTQWU1HufqFVeZ480KB87VOnYsLy+jr68P8/PzuH79OiYmJjA1NYXZ2VnMzMz4sr7sTMis1LgExv1xi323Vo3CtsfyH1cshFYg63MUCgUsLy/j9u3b+Oijj5DP51GtVrGwsOBLxbNwmKbrsp6WliQkQ9n1UAt05vN5jI6O+hqPrKxgZr7JLOs0shjbYe8aZose1YI/s/lpmgrr9iu3sevTwsIC7ty5g6WlJRQKBd8+S4tvclA5IMypTiQSXiSyaIsWcgHgC8NonvbGxgaePXuGzc1N3yO0VCphfn4eY2Nj6OrqwvDwMK5evYrp6WmMjY1F2mvFxTvq+5FOJRO03RQGb9KU39zcxPLyMh48eID3338fH3zwAX75y1/COYe1tTVfr0rLz6o4ZJEVTYrv7e2N1Hgkk5LJpK+CoIXSWJSmXC5jfX3dl64YGxvD5cuXMTQ05FfwpUuXMDU1FevGKKM02rpVK/PMMS2O9vb28Pz5c3z44Ye4desW3nvvPRQKBczPz/t6HUA9MR2IKnTtLG9Wr8/Iz/EeGigadvhlgRcyeXt7G+Vy2Xf7ZR1mVg0aGBjAxMSEF8ukVkThmWRaoxkV53vt7u5ieXkZ7733Hm7evIn5+XlfDYfWo36e12A5CdYH4d/6WYo/MllrLfK8/pDxZDBLOtHN2N7eRjabxbVr1yKFy+LeU9GY8Fgj6lhSYaufpbhbXl7GnTt3cPfuXWxsbHgxp1W9NQGdL0+/jRRXF5/3Cp9NS12wZj+/y++zehBLMSUSCTx79gz5fD5SQ5nE7+k1jmqMnAnxqKJMcUOa95VKBR9//DHm5+dRLBZ9+T9+TusBs4o4W5roagHgC7/QolRDwaxebhCoGy9ciSwwHdYZ5uotFApIJBJ4/vy5t1xZdU+ZFzLpqBZ1R0x+ZYzOOBIHeWtrCw8fPvTNUFnKiMygaGIvzdBk1/6bZG5Yp1/r7LMOMdESEpv/sAuG3ovGDItab2xsoFAo4PHjx7h37x6mp6e9FakTM3zfo1DHV9phjANqDC4Wi7h58yYWFxdRKBR8yVwWXNGeL/wOmQXAM5nOOA0SQlVa4FrRfPpurPKdTCYj9bfofJPRvN6LFy+wvLyM+/fv49atW6hUKhgaGkImk4k1SI7jt3ZUp4UoQSjj9/b2UCwWcefOHSwsLPhC02w9mclkfItkoL6i2OEQqFcSd67eAEhNeRoL1H00YOJ0I5EOdpkyM98np1wu+wlSqVTw+PFjX9zsS1/6UmR18R3VneB4nGk/rdkM4/lyuYzFxUWsrKygWq1GmEoLknqHK0+NlHBGkymq73hOewBQFO7s7HhIyrl6OUPek+fY05MOOwHrK1euoFKpIJ1ORyaDvof2L9X+a4dRR5h22EOFs5EwUqVS8ftiCkep2NNrq7hUpqm5rzNd788i1rpZqm5EWDtfm/zwGjs7O77fadiGKxwDOvHaP+dMNVNohdTZpQ7RxgXabQKIOsGcxdp+RFdT+FvvxxWm59SPU2dcMUYaRxTdAPxzJxIJb+UqhQaJIiJhtbs4OlOAsa4yDla1WvVbLlT8FEPUW2EzA+17Hed/0fCIs+YIHANRPUfjhWY/9SoZp00ReC1alTSawvdXQ0qt1XO10uK2L5xzvh4xawZzoLjiQv0QijCeVwCYzFcdqMaH9oOhe0FDRnFJPo9OKL4LRWOjMoFxDDpzK+0otL297evYs5EqB4++Ewc71D9xlhgHSfWRIiTak0ahK21apHtlXP1caWyax2dnnAohNBW9+kzA0aocnBmmhU43ZynhoLBdCT+nDjN9tDidocd0JXLQ9b604vR/9bFo6GhVVE4gXWlmhmw2e2AShIw7d851SGqKq8mu/WeAut/EyCqSrjLWv1fLjUwIS+hyAmiNfrVWKSa5i0DxSVgLQMRYIfP0WBxzwmNxTA3pTDFNH1YZpjM0rG8fpxd4TA0UXkc/E+rQcFXGfV+rjVPnUWTyvqFY5ndOa6V1pEhns4fkKuNmJn9TtJFx7M4EHNQN/H6INar4VPxRdaAaLry+uhXspru1teUbPyjyovpV3+Gwoi6hVGk2Pk2ZZmZXzOy/zOyOmd02sz/dP/7XZrZotSS6W2b2O82uxQdqxDiFqarVqm99pZagbsdooA5Qn9X8mwiFNjNgOXU2yKORQRgqREu0o4UyQO/D+6phtL29jeXlZd+NMRTVcePCvxtRK+JxB8CfO+f+z2rx6jfN7N39c//gnPvbFq5x6EOGiAQ7Oa2srGB+fh4jIyN+ddAAIAJCqwyody2kCCO8pTOYMYpsMKSrgc9DoFhXLsUgDSLtG8MoLKDubBNEptX59OlT5HK52Lr7uoJbkUJAa9XClwAs7f9dMrMPcILcsjh5HlpXIcLBwedgs8Y9e5DRBFfGcdXo4KtDzlZe4X0YDkcnWgdZAWYaMqrDKMJ53b29PVSrVaysrKBUKvmg2LjxaGZ8KB1Jp5nZLIBfA/C/+4feMbP3zOz71mI+cYgIHIYQdHd3RxrMcTDIMAV3udrUQVarLky8oPiluFPRq4xWTJD/83P6LuHkoOtx6dIllMtlrK6u+sZCh41J+NOIWmaamfUD+HcAf+acWwfwjwCuAfgCaivx7w753h+Z2Q0zu8FGOiHFOcDaIosDG76QxmvwOjqAjSw5bSLL+x42iajXKMo5sXh9RUdUFyoC08gQ0fu2suJaYpqZdaPGsH9zzv3H/gA9c87tOuf2APwzavlqB8g59z3n3BvOuTdGR0fDc7EynA9OZqlprRgdNyLVeOD3tdldmNIUOtG0IMPdakYb62d0QpF5ZuZXre44qJ5U6zLuXfU7zaiVXjMG4F8AfOCc+3s5PuHq+cS/h1oSXUsUmtbhaiADGJdPJnC2q/OqOgaorwLuOGtbZV4bQIQRPE+dpVAZt154nsYMJwj7c1MEa/zI7u6u77OmPU7j6Ci+WivW45sAvgXgfTO7tX/sr1BL1/0CannEcwD+uOW7CoXOpm7FsCXWYag3jQYaF4pgcEXwHPWghhSo38YdaLUcubK5q0ALUgdfdxzIMDJvc3PT+3T6XnEU+pmNqBXr8X8AxAnaYyVe8IUVPVBSH4dZLLqflkwmfRIgrT1mwnD1EgPUlcwVyEEhHKXdltgwXQOCKJYZxQUg4rfRB+NKTKVSSCQSPoC2Wq3i6dOnWFhYwNjYGEZGRg5M1FDKNKO2wlih5686SHXT1tYWSqUSSqWSbyepTL506ZJvZsc8sWq1is3NzUh4OK/LLfyw0ztFmhohXB1slaXGCoCIXtUme0C9qZ6KT66w9fV133A2pLiwiEbU9pbJcTghyTnnWzKSaVx1HKgwZ5qDoDEdapioziRiEXar12egqFMDSO/F/9m5vlwuo6ury/uLbDyuTVuZuaMgdDgGraIhQId2rkOzGjiIGW5tbWFzc9NHNPFciHi8ePHiQDBoGPsRiuJwb0sZoxusauzotos6yHS+FQ9VgJj5c6urq555zcbkML1H6ijTQquRx+hH7e7uIpVKeQtOxRkHkjvHqpv4GU2+D1e5+lIkjQbWVcuJRAND3QYgmj9ANIVUKpVQLBZ9f23VteF763M1oo4lYBzGOIpDxl9woNQp1oGmac+VoJanmXlcMDREwkHSEHCgHjBEXzAU47wOrUf1B2k5crWura1hY2Mj0jNbKXyWM8e00POPk+EcdEYTa3wjUI8K7u3txdDQEEZGRlCpVPxA6XV11itKwf/Vsuzp6fFbLmoc8Zn4zGzoSuLzcFXT0uQEo27jdZqttGZ6rWNMCx+MoDA717IbPJH17u5ub3LTrE8mk8jlchgcHISZ+fbHdHYpalVc8vu6isJtGQARY4Srjs+YSCR8r2ymOTEeJGQORaZeK24l6b3P3Eo7bJbxuDrI29vbKJVKEQbQKXbO+Z7Q2WwWlUrFr1AObFjnQ8UfUGcM41F2dnb8CuIAcgKp9UnLkefUgFH0hAkZ1MF81zhSK7fZSuvIzrX6JXHEeMNqteoRDxoGauLTmU0mk0ilUpGYRd0nU+uRiEcc5hcOrvasVpSE92ApDAULqDcpIfb29nzcZlykcRw1W2lnKtxAdQ4HPHSGObjd3d1etyiEFFqncd/VZ1FdFGeoKKYJHMweVfM+vJeCxRpGdxScMY7OTGBP6GCG+kf/pk6j8RAGmvJaGuOo11dxrH/TdeD3QnGl4Qu8vgLT/FHLUkMMWrEM+Z6NqKNh4XxxpRBU5aAAdaeT2yAM2dYtEr1PmNSgDAp9Ns271mdRXavQlHO13fG+vj6k02mP3pBCuI7v2iwr5szBWEDz2UYDQgckFGO09np7e7G2thbZxyIzWFZC40iA6NZMyDy1MlW36cqj9ceJ0NvbG9nW4Q/9Nt67Wq168PsoOGMcddy5Domzsa+vD5lMJhJvwaAb3YAcGhryPprS1tbWgcBTxQ+pO1WkAnW/Tlc1/SwaFwydY0JjuFvNa/X19fnP05jijoRuuB6VzlTWDAC/imhgJJNJHzCjxkdfX18E99PSRrTiNNROkXc+Q1ypiDBkADgY1kBT3jnn87u5CnlPFemJRAK5XA7ZbNZvop6EzowhQlLjQDdBWV+R5rf6VvxNH4pERnGgVMfRUgyDX6lTQ53HiQPUXRI+K5EUvXZPT09k75DhC/TrTkJnjmnEFwknEWXgi6uuMLMDeoKALlcLGaV6LfQTFc4Kj+l3eDwMPCXj1XChmFcLUiXCYdTKKmy7n6biJwSKCS1tbGygWq1GVhotOLXImIChroAaFxqso/fiKtXI4PD7avjwWvqjuwCcUJxMZJ5OsBAsbsScM2XykymKqofnieExJJwDogaJGgZArdgZ96oIf+3s7EQS2oF6gCknjoLQLAjD1aPRwFztCvxSz2lSoxo4BI3JWNZTpi6ME5GtOt4dwx51dSj0pLEhHIBQP+jnFexluAEAH/ZNXUJRRd9OV4juZgN1EajQFzdcyUBOPoY9UEQq9slJxXMKrcVZ0JxQZw4wVrgJOIj688G3t7dRKBS8WFR9Q9HT3d3tq+sMDAz4eo9ELRiAQ7yQk0B/OPhaMCbUPVy5mm8dhtlxJVIMcodCt2uaOde6UhuOYSsDbWZzAEoAdgHsOOfeMLMhAD8CMItaCN3bzrlis2uF+CAQTZpQEaXALGepxnmoXtLNT62LxdXGjVQyXPfZaB3qLgK/qwaHYo18/mQyiXQ6DaCmKyuVil/9ivZrOMNJTf6jGCInbjMVOrJKak7r/hNXjSL8NKvNzFc6ZbQTGan1qvh3HAjN35okqJZmaAQpAOxcrejL7OwsUqlUJPiITrRCWFQLOhEOG6dGdBLr8VTaTIV4nQb2MOyAWCMA769RNAKIWJualEELT3/zflxRFNca4KopS9SHugOgOimZTGJychIDAwORyGLCZ5wgFNWq00JqFVBulWkOx2wzZUdIwFBzXleXzlaiIqxDTIODn9MkQRVzISISJhRSRxGNIbbJXQTqPN1RIGIzNjaG8fHxyM663pcUd+w41Koh8mXn3KKZjQF418w+1JPOOWdmsU/igrYloS4jcZCJelDvUORQ6dN83tmpNURg/eK1tTVUKpXItcPdYs58Wn88R71DREVLvIc5A5w8PT09SKVSGBsbw+TkJCqVCgYGBnz1HnVpnHO+tEYjFUE6FevRSZspM4u0mXLOLdkR2kypyR8+pL4oo4gpFllJgCKTtafW19e98UFRxFXKcALeV6OF42JAOCE2Nze9j8fn4DXUVHeuVqR6ZmYGzjncvn0bS0tLkVxw9dOOsnvdiFrJuT71NlNx4kGNC+qkarUama0MoqG4ev78uYe6+ENfjX6RIhS8D69Ht4F+FPUZUKt+xzjF3d1dj9iTYV1dtZYnr732GiYmJjA0NOQzPTkhuGrJXN3aOe62DNDaShsH8JP9m3QB+IFz7qdm9nMAPzazbwN4BODtVm7IwdOH1plLPZHJZDA6OopisRiJIO7t7UU2m8X4+Dj6+vqQSqWwubkZqehDnZhOp32MB51j1oZUuIqMTKfT3tqsVCowq0d49fX14fHjx35Lpre3F5OTk5iamkI2m0U2m0Umk/GMoVTQGv8KhsdN3FC3H0atZM08APD5mON5AF9t9v2Qmsnyrq4upFIpHxo3MjKCfD7vV00qlcL4+DhmZ2cxOzuLbDYbSV8ivMUVRmSdOrJSqUSSLvxA7FuKOzs7vogaJxH17KuvvorV1VV0d3f755iZmfF7ZWqFAvCinS4FUDdkDnv/OKQkpI6j/CEywsFLp9MYGBjwIodIQ29vLwYGBjA5OYnPfe5zyOVy3gBQKMnMfK0qntvb24sEo+qs13hFIitqnBDhyOfzXjTmcjnf/YITQR15rnzdjQjfO47OFGDcCun2S39/f8R3UyNicnIS09PTyGazGBoa8nWqOMvVSdYBog+o5fz0HDHMcrnsoTCKvd3dXb/SmCdHi5dQGZlGBITWZugzasbokcfoWN86IcVZjuH/HFwaF7rtf/nyZczOzmJsbMwPnsbS6woK98R0GyXEPUOQmceIF1JP0ojRqGQ64cQhtSY/n5uMVdfjONTRlaYynC/P2c4XJzxF0zudTkdEZzKZjFidjSguvOAwitMtyWTygOjic6dSKaRSqUh5eIpzvk8rYHAr1PZNUCAeruGxnp4e9Pf3e6uwUChgY2PDM+rSpUvI5/NYXV31eGIctTI4ivbHPWPcZw5zjlnjhNmrCsXRb+Mq5FbOUZ5H6czoNH1gOssADgSP8mVZB1JLT5Ba9YFa+Vwrn6FIJUjMY0C9xCF9RVqSGpui78+/G1HHmRbCWvRxstksJicn8dnPfha5XA7Dw8PeDZicnMTg4KB3jPldXu80RFCrRP1ExtHH1L08WqDcYQh1qf7dClrScaaFZGZIpVK4fPky9vb2kEwmsbS0hFwuh0wm48Xk1NSURx8abfecBHk4jEJge3t72/fAISZJv5A6N5PJ+EgyNYLirnsm/bTDVoOZ+RmZSCTQ39+PK1dqXZlpWlMUMi4yDllpdI+Tkopxbrq+ePECjx49QrFY9OEMQC1YNZvNerAgm816HDPO3A991sPoTGSC6jGKGJrUAwMDHm1QMz70c8JZGid6TrrqdHtH/9/a2oqkEYcuRSaTAQCPi9LCPGzCNROR1k75b2bLACoAVtp2087RCE72njPOudG4E21lGgCY2Q1XD1l4aemTfM+O+GkXdDK6YNo5pE4w7XsduGcn6BN7z7brtAs6OV2Ix3NIbWOamX3dzO6a2T0zaxrYet7IzObM7H2r9Si4sX9syMzeNbOP93+3VJy7GbWFaWaWAPBdAL8N4HXUqrK+3o57t5lOHIXdCrVrpX0RwD3n3APn3BaAH6IWofyy06lEYYfULqZNAZiX/xdwgoYMZ5SOHYV9VDpzKP85pmNHYR+V2rXSFgFckf+n94+9NKRR2AAiUdhArSQ+WozCbkbtYtrPAVw3s1fMrAfAN1GLUH4p6JOIwm5EbRGPzrkdM3sHwM8AJAB83zl3ux33bhOdahR2M7pARM4hXSAi55AumHYO6YJp55AumHYO6YJp55AumHYO6YJp55AumHYO6f8B6lG5NDKU0SEAAAAASUVORK5CYII=\n","text/plain":["<Figure size 576x576 with 5 Axes>"]},"metadata":{"tags":[],"needs_background":"light"}}]},{"cell_type":"code","metadata":{"id":"1dsUizCfln4P","colab_type":"code","colab":{}},"source":[""],"execution_count":0,"outputs":[]}]}
=======
{
  "nbformat": 4,
  "nbformat_minor": 0,
  "metadata": {
    "kernelspec": {
      "display_name": "Python 3",
      "language": "python",
      "name": "python3"
    },
    "language_info": {
      "codemirror_mode": {
        "name": "ipython",
        "version": 3
      },
      "file_extension": ".py",
      "mimetype": "text/x-python",
      "name": "python",
      "nbconvert_exporter": "python",
      "pygments_lexer": "ipython3",
      "version": "3.6.9"
    },
    "colab": {
      "name": "DCGAN.ipynb",
      "provenance": [],
      "collapsed_sections": [],
      "include_colab_link": true
    },
    "accelerator": "GPU"
  },
  "cells": [
    {
      "cell_type": "markdown",
      "metadata": {
        "id": "view-in-github",
        "colab_type": "text"
      },
      "source": [
        "<a href=\"https://colab.research.google.com/github/kaushil24/GAN/blob/master/DCGAN.ipynb\" target=\"_parent\"><img src=\"https://colab.research.google.com/assets/colab-badge.svg\" alt=\"Open In Colab\"/></a>"
      ]
    },
    {
      "cell_type": "code",
      "metadata": {
        "id": "EzS7Jix0Qdya",
        "colab_type": "code",
        "colab": {
          "base_uri": "https://localhost:8080/",
          "height": 153
        },
        "outputId": "bf02f0bb-6781-472d-fc76-a02a65a64272"
      },
      "source": [
        "from google.colab import drive\n",
        "drive.mount('/content/drive')\n",
        "import os\n",
        "os.chdir('/content/drive/My Drive/ML Projects/GAN')\n",
        "os.listdir()"
      ],
      "execution_count": 1,
      "outputs": [
        {
          "output_type": "stream",
          "text": [
            "Drive already mounted at /content/drive; to attempt to forcibly remount, call drive.mount(\"/content/drive\", force_remount=True).\n"
          ],
          "name": "stdout"
        },
        {
          "output_type": "execute_result",
          "data": {
            "text/plain": [
              "['README.md',\n",
              " '.gitignore',\n",
              " 'fashion-MNIST-idx3-ubyte',\n",
              " 'DCGAN.pdf',\n",
              " '.ipynb_checkpoints',\n",
              " '.git',\n",
              " 'DCGAN.ipynb']"
            ]
          },
          "metadata": {
            "tags": []
          },
          "execution_count": 1
        }
      ]
    },
    {
      "cell_type": "code",
      "metadata": {
        "id": "yzYe3KlPQXXe",
        "colab_type": "code",
        "colab": {}
      },
      "source": [
        "import torch\n",
        "import torch.nn as nn\n",
        "from torch.utils.data import Dataset, DataLoader\n",
        "import torchvision\n",
        "import torchvision.transforms as transforms\n",
        "import cv2"
      ],
      "execution_count": 0,
      "outputs": []
    },
    {
      "cell_type": "markdown",
      "metadata": {
        "id": "4bHkL7ylQXXk",
        "colab_type": "text"
      },
      "source": [
        "Getting the dataset:"
      ]
    },
    {
      "cell_type": "code",
      "metadata": {
        "scrolled": true,
        "id": "dbVoFBSVQXXl",
        "colab_type": "code",
        "colab": {
          "base_uri": "https://localhost:8080/",
          "height": 282
        },
        "outputId": "b33ed560-010e-44bf-87ba-1e917468aec2"
      },
      "source": [
        "import numpy as np\n",
        "import idx2numpy\n",
        "import matplotlib.pyplot as plt\n",
        "\n",
        "imagefile = 'fashion-MNIST-idx3-ubyte'\n",
        "imagearray = idx2numpy.convert_from_file(imagefile)\n",
        "\n",
        "plt.imshow(imagearray[4], cmap=plt.cm.binary)\n",
        "print(imagearray.shape)"
      ],
      "execution_count": 9,
      "outputs": [
        {
          "output_type": "stream",
          "text": [
            "(60000, 28, 28)\n"
          ],
          "name": "stdout"
        },
        {
          "output_type": "display_data",
          "data": {
            "image/png": "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\n",
            "text/plain": [
              "<Figure size 432x288 with 1 Axes>"
            ]
          },
          "metadata": {
            "tags": [],
            "needs_background": "light"
          }
        }
      ]
    },
    {
      "cell_type": "markdown",
      "metadata": {
        "id": "6IaxjVu2QXXr",
        "colab_type": "text"
      },
      "source": [
        "# Building GANs"
      ]
    },
    {
      "cell_type": "code",
      "metadata": {
        "id": "trvTdcjISygy",
        "colab_type": "code",
        "colab": {
          "base_uri": "https://localhost:8080/",
          "height": 34
        },
        "outputId": "572d294f-9f1a-4517-9869-c0a604b05865"
      },
      "source": [
        "device = torch.device('cuda' if torch.cuda.is_available() else 'cpu')\n",
        "device"
      ],
      "execution_count": 3,
      "outputs": [
        {
          "output_type": "execute_result",
          "data": {
            "text/plain": [
              "device(type='cuda')"
            ]
          },
          "metadata": {
            "tags": []
          },
          "execution_count": 3
        }
      ]
    },
    {
      "cell_type": "code",
      "metadata": {
        "id": "PZ-3c6WQQXX8",
        "colab_type": "code",
        "colab": {}
      },
      "source": [
        "class Discriminator(nn.Module):    \n",
        "    def __init__(self, channels, features):\n",
        "        super().__init__()\n",
        "        self.net = nn.Sequential(\n",
        "            nn.Conv2d(in_channels= channels, out_channels = features, kernel_size = 4, stride = 2, padding = 1),\n",
        "            nn.LeakyReLU(0.2),\n",
        "            nn.Conv2d(in_channels = features, out_channels = features * 2, kernel_size = 4, stride = 2, padding = 1),\n",
        "            nn.BatchNorm2d(num_features = features * 2),\n",
        "            nn.LeakyReLU(0.2),\n",
        "            nn.Conv2d(in_channels = features * 2, out_channels = features * 4, kernel_size = 4, stride = 2, padding = 1),\n",
        "            nn.BatchNorm2d(num_features = features * 4),\n",
        "            nn.LeakyReLU(0.2),\n",
        "            nn.Conv2d(in_channels = features * 4, out_channels = features * 8, kernel_size = 4, stride = 2, padding = 1),\n",
        "            nn.BatchNorm2d(num_features = features * 8),\n",
        "            nn.LeakyReLU(0.2),\n",
        "            nn.Conv2d(in_channels = features * 8, out_channels = 1, kernel_size = 4, stride = 2, padding = 0),\n",
        "            nn.Sigmoid()\n",
        "            )\n",
        "        \n",
        "    def forward(self, x):\n",
        "        x = self.net(x)\n",
        "        return x\n",
        "\n",
        "class Generator(nn.Module):\n",
        "    def __init__(self, noise_size, channels, features):\n",
        "        super().__init__()\n",
        "        self.net = nn.Sequential(\n",
        "            nn.ConvTranspose2d(in_channels = noise_size, out_channels = features*16, kernel_size = 4, stride = 1, padding = 0),\n",
        "            nn.BatchNorm2d(features * 16),\n",
        "            nn.ReLU(),\n",
        "            \n",
        "            nn.ConvTranspose2d(in_channels = features * 16, out_channels = features * 8, kernel_size = 4, stride = 2, padding = 1),\n",
        "            nn.BatchNorm2d(num_features = features * 8),\n",
        "            nn.ReLU(),\n",
        "            \n",
        "            nn.ConvTranspose2d(in_channels = features * 8, out_channels = features * 4, kernel_size = 4, stride = 2, padding = 1),\n",
        "            nn.BatchNorm2d(num_features = features * 4),\n",
        "            nn.ReLU(),\n",
        "            \n",
        "            nn.ConvTranspose2d(in_channels = features * 4, out_channels = features * 2, kernel_size = 4, stride = 2, padding = 1),\n",
        "            nn.BatchNorm2d(num_features = features * 2),\n",
        "            nn.ReLU(),\n",
        "            \n",
        "            nn.ConvTranspose2d(in_channels = features * 2, out_channels = channels, kernel_size = 4, stride = 2, padding = 1),\n",
        "            nn.Tanh()\n",
        "        )\n",
        "        \n",
        "    def forward(self, x):\n",
        "        return self.net(x)\n",
        "    \n",
        "\n",
        "batch_size = 64\n",
        "img_size = 64\n",
        "img_channels = 1\n",
        "channels_noise = 256\n",
        "features = 16\n",
        "\n",
        "disc = Discriminator(img_channels, features).float().to(device)\n",
        "gen = Generator(channels_noise, img_channels, features).to(device)"
      ],
      "execution_count": 0,
      "outputs": []
    },
    {
      "cell_type": "code",
      "metadata": {
        "id": "AgrYVYlnQXYB",
        "colab_type": "code",
        "colab": {}
      },
      "source": [
        "## TESTING FORWARD PASS IN DESCRIMINATOR:\n",
        "rand = torch.rand((batch_size, img_channels, img_size, img_size)).float().to(device)\n",
        "c = disc.forward(rand)\n",
        "print(c.shape, c)\n",
        "\n",
        "## TESTING FORWARD PASS IN GENERATOR:\n",
        "rand = torch.rand((batch_size, channels_noise, 1, 1)).float().to(device)\n",
        "c = gen.forward(rand)\n",
        "print(c)"
      ],
      "execution_count": 0,
      "outputs": []
    },
    {
      "cell_type": "markdown",
      "metadata": {
        "id": "WwbnJW52Tstb",
        "colab_type": "text"
      },
      "source": [
        "## Let's start training:"
      ]
    },
    {
      "cell_type": "code",
      "metadata": {
        "id": "TpmaToxOUPRj",
        "colab_type": "code",
        "colab": {
          "base_uri": "https://localhost:8080/",
          "height": 136
        },
        "outputId": "1651dbb7-a317-4628-9247-cdc5a173587d"
      },
      "source": [
        "lr = 0.0002\n",
        "epochs = 10\n",
        "\n",
        "batch_size = 64\n",
        "img_size = 64\n",
        "img_channels = 1\n",
        "channels_noise = 256\n",
        "features = 16\n",
        "\n",
        "class Resize():\n",
        "    def __init__(self, resize_dim = 64):\n",
        "        self.resize_dim = 64\n",
        "        \n",
        "    def __call__(self, img):\n",
        "        return cv2.resize(img, (self.resize_dim, self.resize_dim))\n",
        "\n",
        "class FashnionDataset(Dataset):\n",
        "  def __init__(self, file = 'fashion-MNIST-idx3-ubyte', transform = None):\n",
        "    self.file = file\n",
        "    self.transform = transform\n",
        "    self.img_array = idx2numpy.convert_from_file(self.file)\n",
        "\n",
        "  def __len__(self):\n",
        "    return len(self.img_array)\n",
        "\n",
        "  def __getitem__(self, idx):\n",
        "    img = self.img_array[idx]\n",
        "    # img = torch.tensor(img).to(device)\n",
        "\n",
        "    if self.transform is not None:\n",
        "      img = self.transform(img)\n",
        "\n",
        "    if not torch.is_tensor(img):\n",
        "      img = torch.tensor(img).to(device)\n",
        "\n",
        "    return img.to(device)\n",
        "\n",
        "my_transforms = transforms.Compose([\n",
        "    Resize(img_size),\n",
        "    transforms.ToTensor(),\n",
        "    transforms.Normalize((0.5,),(0.5,)),\n",
        "    ])\n",
        "\n",
        "ds = FashnionDataset(transform = my_transforms)\n",
        "loader = DataLoader(ds, batch_size, shuffle = True)"
      ],
      "execution_count": 17,
      "outputs": [
        {
          "output_type": "execute_result",
          "data": {
            "text/plain": [
              "tensor([[[-1., -1., -1.,  ..., -1., -1., -1.],\n",
              "         [-1., -1., -1.,  ..., -1., -1., -1.],\n",
              "         [-1., -1., -1.,  ..., -1., -1., -1.],\n",
              "         ...,\n",
              "         [-1., -1., -1.,  ..., -1., -1., -1.],\n",
              "         [-1., -1., -1.,  ..., -1., -1., -1.],\n",
              "         [-1., -1., -1.,  ..., -1., -1., -1.]]], device='cuda:0')"
            ]
          },
          "metadata": {
            "tags": []
          },
          "execution_count": 17
        }
      ]
    },
    {
      "cell_type": "code",
      "metadata": {
        "id": "RnEoLqKjYIz1",
        "colab_type": "code",
        "colab": {}
      },
      "source": [
        ""
      ],
      "execution_count": 0,
      "outputs": []
    }
  ]
}
>>>>>>> 9407777ffde43176d297520969cea55a9d7e4bd3
